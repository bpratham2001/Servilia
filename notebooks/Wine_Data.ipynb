{
  "nbformat": 4,
  "nbformat_minor": 0,
  "metadata": {
    "colab": {
      "provenance": [],
      "authorship_tag": "ABX9TyMIg6vAU6vrO9AxXcrVlDHm",
      "include_colab_link": true
    },
    "kernelspec": {
      "name": "python3",
      "display_name": "Python 3"
    },
    "language_info": {
      "name": "python"
    }
  },
  "cells": [
    {
      "cell_type": "markdown",
      "metadata": {
        "id": "view-in-github",
        "colab_type": "text"
      },
      "source": [
        "<a href=\"https://colab.research.google.com/github/bpratham2001/Servilia/blob/main/notebooks/Wine_Data.ipynb\" target=\"_parent\"><img src=\"https://colab.research.google.com/assets/colab-badge.svg\" alt=\"Open In Colab\"/></a>"
      ]
    },
    {
      "cell_type": "code",
      "source": [
        "# https://github.com/Kaggle/kagglehub/blob/main/README.md#kaggledatasetadapterpandas\n",
        "#!pip install kagglehub[pandas-datasets]\n",
        "!pip install opendatasets"
      ],
      "metadata": {
        "colab": {
          "base_uri": "https://localhost:8080/"
        },
        "id": "hmPX0I1FVl95",
        "outputId": "5da958a6-4ece-4d6e-a712-56175f90d3ca"
      },
      "execution_count": 1,
      "outputs": [
        {
          "output_type": "stream",
          "name": "stdout",
          "text": [
            "Collecting opendatasets\n",
            "  Downloading opendatasets-0.1.22-py3-none-any.whl.metadata (9.2 kB)\n",
            "Requirement already satisfied: tqdm in /usr/local/lib/python3.11/dist-packages (from opendatasets) (4.67.1)\n",
            "Requirement already satisfied: kaggle in /usr/local/lib/python3.11/dist-packages (from opendatasets) (1.6.17)\n",
            "Requirement already satisfied: click in /usr/local/lib/python3.11/dist-packages (from opendatasets) (8.1.8)\n",
            "Requirement already satisfied: six>=1.10 in /usr/local/lib/python3.11/dist-packages (from kaggle->opendatasets) (1.17.0)\n",
            "Requirement already satisfied: certifi>=2023.7.22 in /usr/local/lib/python3.11/dist-packages (from kaggle->opendatasets) (2025.1.31)\n",
            "Requirement already satisfied: python-dateutil in /usr/local/lib/python3.11/dist-packages (from kaggle->opendatasets) (2.8.2)\n",
            "Requirement already satisfied: requests in /usr/local/lib/python3.11/dist-packages (from kaggle->opendatasets) (2.32.3)\n",
            "Requirement already satisfied: python-slugify in /usr/local/lib/python3.11/dist-packages (from kaggle->opendatasets) (8.0.4)\n",
            "Requirement already satisfied: urllib3 in /usr/local/lib/python3.11/dist-packages (from kaggle->opendatasets) (2.3.0)\n",
            "Requirement already satisfied: bleach in /usr/local/lib/python3.11/dist-packages (from kaggle->opendatasets) (6.2.0)\n",
            "Requirement already satisfied: webencodings in /usr/local/lib/python3.11/dist-packages (from bleach->kaggle->opendatasets) (0.5.1)\n",
            "Requirement already satisfied: text-unidecode>=1.3 in /usr/local/lib/python3.11/dist-packages (from python-slugify->kaggle->opendatasets) (1.3)\n",
            "Requirement already satisfied: charset-normalizer<4,>=2 in /usr/local/lib/python3.11/dist-packages (from requests->kaggle->opendatasets) (3.4.1)\n",
            "Requirement already satisfied: idna<4,>=2.5 in /usr/local/lib/python3.11/dist-packages (from requests->kaggle->opendatasets) (3.10)\n",
            "Downloading opendatasets-0.1.22-py3-none-any.whl (15 kB)\n",
            "Installing collected packages: opendatasets\n",
            "Successfully installed opendatasets-0.1.22\n"
          ]
        }
      ]
    },
    {
      "cell_type": "code",
      "execution_count": 29,
      "metadata": {
        "colab": {
          "base_uri": "https://localhost:8080/"
        },
        "id": "kzFLPYwwVEpQ",
        "outputId": "de89d313-4c79-4cfd-b51e-7983d36be6f3"
      },
      "outputs": [
        {
          "output_type": "stream",
          "name": "stdout",
          "text": [
            "Dataset URL: https://www.kaggle.com/datasets/zynicide/wine-reviews\n",
            "Downloading wine-reviews.zip to ./wine-reviews\n"
          ]
        },
        {
          "output_type": "stream",
          "name": "stderr",
          "text": [
            "100%|██████████| 50.9M/50.9M [00:02<00:00, 20.3MB/s]\n"
          ]
        },
        {
          "output_type": "stream",
          "name": "stdout",
          "text": [
            "\n",
            "Dataset URL: https://www.kaggle.com/datasets/fedesoriano/spanish-wine-quality-dataset\n",
            "Downloading spanish-wine-quality-dataset.zip to ./spanish-wine-quality-dataset\n"
          ]
        },
        {
          "output_type": "stream",
          "name": "stderr",
          "text": [
            "100%|██████████| 46.4k/46.4k [00:00<00:00, 1.56MB/s]"
          ]
        },
        {
          "output_type": "stream",
          "name": "stdout",
          "text": [
            "\n",
            "Dataset URL: https://www.kaggle.com/datasets/elvinrustam/wine-dataset\n"
          ]
        },
        {
          "output_type": "stream",
          "name": "stderr",
          "text": [
            "\n"
          ]
        },
        {
          "output_type": "stream",
          "name": "stdout",
          "text": [
            "Downloading wine-dataset.zip to ./wine-dataset\n"
          ]
        },
        {
          "output_type": "stream",
          "name": "stderr",
          "text": [
            "100%|██████████| 308k/308k [00:00<00:00, 648kB/s]"
          ]
        },
        {
          "output_type": "stream",
          "name": "stdout",
          "text": [
            "\n"
          ]
        },
        {
          "output_type": "stream",
          "name": "stderr",
          "text": [
            "\n",
            "<ipython-input-29-1f4357c44fed>:28: ParserWarning: Falling back to the 'python' engine because the 'c' engine does not support regex separators (separators > 1 char and different from '\\s+' are interpreted as regex); you can avoid this warning by specifying engine='python'.\n",
            "  df5 = pd.read_csv(file, sep = ' - ')\n"
          ]
        }
      ],
      "source": [
        "import opendatasets as od\n",
        "import pandas as pd\n",
        "import numpy as np\n",
        "flag = False\n",
        "#checked\n",
        "#mysarahmadbhat/wine-tasting // winemag-data-130k-v2.csv \\\\ zynicide/wine-reviews is better\n",
        "\n",
        "#potential sources\n",
        "# https://en.wikipedia.org/wiki/Wine_tasting_descriptors\n",
        "# https://www.wineenthusiast.com/toplists/wine/\n",
        "# https://en.wikipedia.org/wiki/Wine_tasting\n",
        "\n",
        "od.download(\"https://www.kaggle.com/datasets/zynicide/wine-reviews\", force=flag) # winemag-data_first150k.csv, winemag-data-130k-v2.csv\n",
        "file =('wine-reviews/winemag-data_first150k.csv')\n",
        "df1 = pd.read_csv(file)\n",
        "file =('wine-reviews/winemag-data-130k-v2.csv')\n",
        "df2 = pd.read_csv(file)\n",
        "\n",
        "od.download(\"https://www.kaggle.com/datasets/fedesoriano/spanish-wine-quality-dataset\", force=flag) # wines_SPA.csv\n",
        "file =('spanish-wine-quality-dataset/wines_SPA.csv')\n",
        "df3 = pd.read_csv(file)\n",
        "\n",
        "od.download(\"https://www.kaggle.com/datasets/elvinrustam/wine-dataset\", force=flag) # WineDataset.csv\n",
        "file =('wine-dataset/WineDataset.csv')\n",
        "df4 = pd.read_csv(file)\n",
        "\n",
        "file =('wine-tastings-guide.txt') # https://www.wine-tastings-guide.com/wine-descriptions.html\n",
        "df5 = pd.read_csv(file, sep = ' - ')\n",
        "file =('grapes.txt')\n",
        "df6 = pd.read_csv(file, sep = ' - ')\n",
        "file =('FR-IT.txt')\n",
        "df6 = pd.read_csv(file, sep = ' - ')"
      ]
    },
    {
      "cell_type": "code",
      "source": [
        "df1.rename(columns={'Unnamed: 0': 'id'}, inplace=True)\n",
        "df2.rename(columns={'Unnamed: 0': 'id'}, inplace=True)\n",
        "#df['DataFrame Column'] = df['DataFrame Column'].fillna(0)\n",
        "\n",
        "# fix designation and regions in df1 and df2 // not fixable?\n",
        "#print(df1[df1['designation'].isnull()])\n",
        "#print(df2[df2['designation'].isnull()])\n",
        "region = np.concatenate((df1[df1['region_1'].isnull()].winery.unique(), df2[df2['region_1'].isnull()].winery.unique()))\n",
        "region = np.concatenate((region, df1[df1['region_2'].isnull()].winery.unique()))\n",
        "region = set(np.concatenate((region, df2[df2['region_2'].isnull()].winery.unique())))\n",
        "print(str(len(region)) + \" wineries of unknown region \\n\")\n",
        "#df1.loc[(df1.region_2.isnull()) & (df1.region_1.isnull())])\n",
        "\n",
        "# fix countries in df1 and df2, fix variety in df2\n",
        "countries = {'Tsililis':'Greece', 'Büyülübağ':'Turkey', 'Chilcas':'Chile',\n",
        "             'Gotsa Family Wines':'Georgia', 'Barton & Guestier':'France',\n",
        "             'Kakhetia Traditional Winemaking':'Georgia', 'Ross-idi':'Bulgaria',\n",
        "             'Orbelus':'Bulgaria', 'St. Donat':'Hungary', 'Familia Deicas':'Uruguay','Bartho Eksteen':'South Africa',\n",
        "             'Stone Castle':'Kosovo', 'Teliani Valley':'Georgia', 'Undurraga':'Chile', 'Mt. Beautiful':'New Zealand',\n",
        "             'Neumeister':'Austria', 'Santa Ema':'Chile', 'Psagot':'Israel',\n",
        "             'Newton Johnson':'South Africa', 'Ktima Voyatzi':'Greece', 'Lismore':'South Africa', 'Logodaj':'Bulgaria',\n",
        "             'Somlói Vándor':'Hungary', 'Les Frères Dutruy':'Switzerland', 'El Capricho':'Uruguay',\n",
        "             'Amiran Vepkhvadze':'Georgia'}\n",
        "\n",
        "df2.at[38898, 'country'] = 'Canada'\n",
        "df2.at[38898, 'region_1'] = 'Twenty Mile Bench'\n",
        "df2.at[38898, 'region_2'] = 'Niagara Peninsula'\n",
        "df2.at[86909, 'variety'] = 'Petite Syrah'\n",
        "df2.at[86909, 'region_1'] = 'Maipo Valley'\n",
        "\n",
        "for index, row in df1.iterrows():\n",
        "    if df1.at[index, 'winery'] in countries:\n",
        "      df1.at[index, 'country'] = countries[df1.at[index, 'winery']]\n",
        "for index, row in df2.iterrows():\n",
        "    if df2.at[index, 'winery'] in countries:\n",
        "      df2.at[index, 'country'] = countries[df2.at[index, 'winery']]\n",
        "\n",
        "# merge regions in df1 and df2, drop useless columns\n",
        "for i, row in df1.iterrows():\n",
        "  if df1.at[i, 'region_1'] != df1.at[i, 'region_2']:\n",
        "    if str(df1.at[i, 'region_1']) == 'nan':\n",
        "      df1.at[i, 'region_1'] = str(df1.at[i, 'region_2'])\n",
        "    elif str(df1.at[i, 'region_2']) != 'nan':\n",
        "      df1.at[i, 'region_1'] = (str(df1.at[i, 'region_1']) +\", \"+ str(df1.at[i, 'region_2']))\n",
        "df1 = df1.drop('region_2', axis=1)\n",
        "df1 = df1.drop('price', axis=1)\n",
        "df1 = df1.drop('points', axis=1)\n",
        "\n",
        "for i, row in df2.iterrows():\n",
        "  if df2.at[i, 'region_1'] != df2.at[i, 'region_2']:\n",
        "    if str(df2.at[i, 'region_1']) == 'nan':\n",
        "      df2.at[i, 'region_1'] = str(df2.at[i, 'region_2'])\n",
        "    elif str(df2.at[i, 'region_2']) != 'nan':\n",
        "      df2.at[i, 'region_1'] = (str(df2.at[i, 'region_1']) +\", \"+ str(df2.at[i, 'region_2']))\n",
        "df2 = df2.drop('region_2', axis=1)\n",
        "df2 = df2.drop('taster_twitter_handle', axis=1)\n",
        "df2 = df2.drop('price', axis=1)\n",
        "\n",
        "# check df1/df2 stats\n",
        "for i in df1.keys():\n",
        "  print(i +\" \"+ str(df1[i].isnull().values.any()))\n",
        "df1.isnull().values.any()\n",
        "print(\"\\n\")\n",
        "for i in df2.keys():\n",
        "  print(i +\" \"+ str(df2[i].isnull().values.any()))"
      ],
      "metadata": {
        "colab": {
          "base_uri": "https://localhost:8080/"
        },
        "id": "Anp9JxMAxH13",
        "outputId": "11b07abc-73ba-4cb5-81f2-eba062dbc7b9"
      },
      "execution_count": 12,
      "outputs": [
        {
          "output_type": "stream",
          "name": "stdout",
          "text": [
            "14017\n",
            "id False\n",
            "country False\n",
            "description False\n",
            "designation True\n",
            "province True\n",
            "region_1 False\n",
            "variety False\n",
            "winery False\n",
            "\n",
            "\n",
            "id False\n",
            "country False\n",
            "description False\n",
            "designation True\n",
            "points False\n",
            "province True\n",
            "region_1 False\n",
            "taster_name True\n",
            "title False\n",
            "variety False\n",
            "winery False\n"
          ]
        }
      ]
    },
    {
      "cell_type": "code",
      "source": [
        "for i, row in df3.iterrows():\n",
        "  df3.at[i, 'country'] = \"Spain\"\n",
        "df3 = df3.drop('price', axis=1)\n",
        "for i in df3.keys():\n",
        "  print(i +\" \"+ str(df3[i].isnull().values.any()))"
      ],
      "metadata": {
        "colab": {
          "base_uri": "https://localhost:8080/"
        },
        "id": "dH6bitowI5p3",
        "outputId": "45165211-5e22-4c6a-dd01-412884686789"
      },
      "execution_count": 19,
      "outputs": [
        {
          "output_type": "stream",
          "name": "stdout",
          "text": [
            "winery False\n",
            "wine False\n",
            "year True\n",
            "rating False\n",
            "num_reviews False\n",
            "country False\n",
            "region False\n",
            "price False\n",
            "type True\n",
            "body True\n",
            "acidity True\n"
          ]
        }
      ]
    },
    {
      "cell_type": "code",
      "source": [
        "for i, row in df4.iterrows():\n",
        "  if df4.at[i, 'Country'] == 'USA':\n",
        "    df4.at[i, 'Country'] = 'US'\n",
        "df4 = df4.drop('Price', axis=1)\n",
        "df4 = df4.drop('Capacity', axis=1)\n",
        "df4 = df4.drop('Unit', axis=1)\n",
        "df4 = df4.drop('Per bottle / case / each', axis=1)\n",
        "df4 = df4.drop('ABV', axis=1)\n",
        "for i in df4.keys():\n",
        "  print(i +\" \"+ str(df4[i].isnull().values.any()))"
      ],
      "metadata": {
        "colab": {
          "base_uri": "https://localhost:8080/"
        },
        "id": "c8Rf-VlZXsMH",
        "outputId": "c142956c-66f1-4e60-b93e-bf0da3f2cd39"
      },
      "execution_count": 22,
      "outputs": [
        {
          "output_type": "stream",
          "name": "stdout",
          "text": [
            "Title False\n",
            "Description True\n",
            "Grape True\n",
            "Secondary Grape Varieties True\n",
            "Closure True\n",
            "Country True\n",
            "Characteristics True\n",
            "Type True\n",
            "Region True\n",
            "Style True\n",
            "Vintage True\n",
            "Appellation True\n"
          ]
        }
      ]
    },
    {
      "cell_type": "code",
      "source": [
        "df5.head()"
      ],
      "metadata": {
        "colab": {
          "base_uri": "https://localhost:8080/",
          "height": 206
        },
        "id": "iar34NyNYCka",
        "outputId": "1695897e-c8ae-4144-93c4-a51c85536571"
      },
      "execution_count": 31,
      "outputs": [
        {
          "output_type": "execute_result",
          "data": {
            "text/plain": [
              "           term                                        description\n",
              "0       Austere  Austere means \"severe or strict in manner, att...\n",
              "1       Bouquet  The perfume of a wine. A wine's bouquet is gen...\n",
              "2        Cassis  One of the most common wine descriptions in ta...\n",
              "3       Complex  A complex wine is one which has a plethora of ...\n",
              "4  Concentrated  A concentrated wine is one which is richly fla..."
            ],
            "text/html": [
              "\n",
              "  <div id=\"df-ca3f0396-e23d-49ed-8d76-000f5e9c5245\" class=\"colab-df-container\">\n",
              "    <div>\n",
              "<style scoped>\n",
              "    .dataframe tbody tr th:only-of-type {\n",
              "        vertical-align: middle;\n",
              "    }\n",
              "\n",
              "    .dataframe tbody tr th {\n",
              "        vertical-align: top;\n",
              "    }\n",
              "\n",
              "    .dataframe thead th {\n",
              "        text-align: right;\n",
              "    }\n",
              "</style>\n",
              "<table border=\"1\" class=\"dataframe\">\n",
              "  <thead>\n",
              "    <tr style=\"text-align: right;\">\n",
              "      <th></th>\n",
              "      <th>term</th>\n",
              "      <th>description</th>\n",
              "    </tr>\n",
              "  </thead>\n",
              "  <tbody>\n",
              "    <tr>\n",
              "      <th>0</th>\n",
              "      <td>Austere</td>\n",
              "      <td>Austere means \"severe or strict in manner, att...</td>\n",
              "    </tr>\n",
              "    <tr>\n",
              "      <th>1</th>\n",
              "      <td>Bouquet</td>\n",
              "      <td>The perfume of a wine. A wine's bouquet is gen...</td>\n",
              "    </tr>\n",
              "    <tr>\n",
              "      <th>2</th>\n",
              "      <td>Cassis</td>\n",
              "      <td>One of the most common wine descriptions in ta...</td>\n",
              "    </tr>\n",
              "    <tr>\n",
              "      <th>3</th>\n",
              "      <td>Complex</td>\n",
              "      <td>A complex wine is one which has a plethora of ...</td>\n",
              "    </tr>\n",
              "    <tr>\n",
              "      <th>4</th>\n",
              "      <td>Concentrated</td>\n",
              "      <td>A concentrated wine is one which is richly fla...</td>\n",
              "    </tr>\n",
              "  </tbody>\n",
              "</table>\n",
              "</div>\n",
              "    <div class=\"colab-df-buttons\">\n",
              "\n",
              "  <div class=\"colab-df-container\">\n",
              "    <button class=\"colab-df-convert\" onclick=\"convertToInteractive('df-ca3f0396-e23d-49ed-8d76-000f5e9c5245')\"\n",
              "            title=\"Convert this dataframe to an interactive table.\"\n",
              "            style=\"display:none;\">\n",
              "\n",
              "  <svg xmlns=\"http://www.w3.org/2000/svg\" height=\"24px\" viewBox=\"0 -960 960 960\">\n",
              "    <path d=\"M120-120v-720h720v720H120Zm60-500h600v-160H180v160Zm220 220h160v-160H400v160Zm0 220h160v-160H400v160ZM180-400h160v-160H180v160Zm440 0h160v-160H620v160ZM180-180h160v-160H180v160Zm440 0h160v-160H620v160Z\"/>\n",
              "  </svg>\n",
              "    </button>\n",
              "\n",
              "  <style>\n",
              "    .colab-df-container {\n",
              "      display:flex;\n",
              "      gap: 12px;\n",
              "    }\n",
              "\n",
              "    .colab-df-convert {\n",
              "      background-color: #E8F0FE;\n",
              "      border: none;\n",
              "      border-radius: 50%;\n",
              "      cursor: pointer;\n",
              "      display: none;\n",
              "      fill: #1967D2;\n",
              "      height: 32px;\n",
              "      padding: 0 0 0 0;\n",
              "      width: 32px;\n",
              "    }\n",
              "\n",
              "    .colab-df-convert:hover {\n",
              "      background-color: #E2EBFA;\n",
              "      box-shadow: 0px 1px 2px rgba(60, 64, 67, 0.3), 0px 1px 3px 1px rgba(60, 64, 67, 0.15);\n",
              "      fill: #174EA6;\n",
              "    }\n",
              "\n",
              "    .colab-df-buttons div {\n",
              "      margin-bottom: 4px;\n",
              "    }\n",
              "\n",
              "    [theme=dark] .colab-df-convert {\n",
              "      background-color: #3B4455;\n",
              "      fill: #D2E3FC;\n",
              "    }\n",
              "\n",
              "    [theme=dark] .colab-df-convert:hover {\n",
              "      background-color: #434B5C;\n",
              "      box-shadow: 0px 1px 3px 1px rgba(0, 0, 0, 0.15);\n",
              "      filter: drop-shadow(0px 1px 2px rgba(0, 0, 0, 0.3));\n",
              "      fill: #FFFFFF;\n",
              "    }\n",
              "  </style>\n",
              "\n",
              "    <script>\n",
              "      const buttonEl =\n",
              "        document.querySelector('#df-ca3f0396-e23d-49ed-8d76-000f5e9c5245 button.colab-df-convert');\n",
              "      buttonEl.style.display =\n",
              "        google.colab.kernel.accessAllowed ? 'block' : 'none';\n",
              "\n",
              "      async function convertToInteractive(key) {\n",
              "        const element = document.querySelector('#df-ca3f0396-e23d-49ed-8d76-000f5e9c5245');\n",
              "        const dataTable =\n",
              "          await google.colab.kernel.invokeFunction('convertToInteractive',\n",
              "                                                    [key], {});\n",
              "        if (!dataTable) return;\n",
              "\n",
              "        const docLinkHtml = 'Like what you see? Visit the ' +\n",
              "          '<a target=\"_blank\" href=https://colab.research.google.com/notebooks/data_table.ipynb>data table notebook</a>'\n",
              "          + ' to learn more about interactive tables.';\n",
              "        element.innerHTML = '';\n",
              "        dataTable['output_type'] = 'display_data';\n",
              "        await google.colab.output.renderOutput(dataTable, element);\n",
              "        const docLink = document.createElement('div');\n",
              "        docLink.innerHTML = docLinkHtml;\n",
              "        element.appendChild(docLink);\n",
              "      }\n",
              "    </script>\n",
              "  </div>\n",
              "\n",
              "\n",
              "<div id=\"df-19959ea7-f7d2-4188-bbc1-21ac1d6dacdd\">\n",
              "  <button class=\"colab-df-quickchart\" onclick=\"quickchart('df-19959ea7-f7d2-4188-bbc1-21ac1d6dacdd')\"\n",
              "            title=\"Suggest charts\"\n",
              "            style=\"display:none;\">\n",
              "\n",
              "<svg xmlns=\"http://www.w3.org/2000/svg\" height=\"24px\"viewBox=\"0 0 24 24\"\n",
              "     width=\"24px\">\n",
              "    <g>\n",
              "        <path d=\"M19 3H5c-1.1 0-2 .9-2 2v14c0 1.1.9 2 2 2h14c1.1 0 2-.9 2-2V5c0-1.1-.9-2-2-2zM9 17H7v-7h2v7zm4 0h-2V7h2v10zm4 0h-2v-4h2v4z\"/>\n",
              "    </g>\n",
              "</svg>\n",
              "  </button>\n",
              "\n",
              "<style>\n",
              "  .colab-df-quickchart {\n",
              "      --bg-color: #E8F0FE;\n",
              "      --fill-color: #1967D2;\n",
              "      --hover-bg-color: #E2EBFA;\n",
              "      --hover-fill-color: #174EA6;\n",
              "      --disabled-fill-color: #AAA;\n",
              "      --disabled-bg-color: #DDD;\n",
              "  }\n",
              "\n",
              "  [theme=dark] .colab-df-quickchart {\n",
              "      --bg-color: #3B4455;\n",
              "      --fill-color: #D2E3FC;\n",
              "      --hover-bg-color: #434B5C;\n",
              "      --hover-fill-color: #FFFFFF;\n",
              "      --disabled-bg-color: #3B4455;\n",
              "      --disabled-fill-color: #666;\n",
              "  }\n",
              "\n",
              "  .colab-df-quickchart {\n",
              "    background-color: var(--bg-color);\n",
              "    border: none;\n",
              "    border-radius: 50%;\n",
              "    cursor: pointer;\n",
              "    display: none;\n",
              "    fill: var(--fill-color);\n",
              "    height: 32px;\n",
              "    padding: 0;\n",
              "    width: 32px;\n",
              "  }\n",
              "\n",
              "  .colab-df-quickchart:hover {\n",
              "    background-color: var(--hover-bg-color);\n",
              "    box-shadow: 0 1px 2px rgba(60, 64, 67, 0.3), 0 1px 3px 1px rgba(60, 64, 67, 0.15);\n",
              "    fill: var(--button-hover-fill-color);\n",
              "  }\n",
              "\n",
              "  .colab-df-quickchart-complete:disabled,\n",
              "  .colab-df-quickchart-complete:disabled:hover {\n",
              "    background-color: var(--disabled-bg-color);\n",
              "    fill: var(--disabled-fill-color);\n",
              "    box-shadow: none;\n",
              "  }\n",
              "\n",
              "  .colab-df-spinner {\n",
              "    border: 2px solid var(--fill-color);\n",
              "    border-color: transparent;\n",
              "    border-bottom-color: var(--fill-color);\n",
              "    animation:\n",
              "      spin 1s steps(1) infinite;\n",
              "  }\n",
              "\n",
              "  @keyframes spin {\n",
              "    0% {\n",
              "      border-color: transparent;\n",
              "      border-bottom-color: var(--fill-color);\n",
              "      border-left-color: var(--fill-color);\n",
              "    }\n",
              "    20% {\n",
              "      border-color: transparent;\n",
              "      border-left-color: var(--fill-color);\n",
              "      border-top-color: var(--fill-color);\n",
              "    }\n",
              "    30% {\n",
              "      border-color: transparent;\n",
              "      border-left-color: var(--fill-color);\n",
              "      border-top-color: var(--fill-color);\n",
              "      border-right-color: var(--fill-color);\n",
              "    }\n",
              "    40% {\n",
              "      border-color: transparent;\n",
              "      border-right-color: var(--fill-color);\n",
              "      border-top-color: var(--fill-color);\n",
              "    }\n",
              "    60% {\n",
              "      border-color: transparent;\n",
              "      border-right-color: var(--fill-color);\n",
              "    }\n",
              "    80% {\n",
              "      border-color: transparent;\n",
              "      border-right-color: var(--fill-color);\n",
              "      border-bottom-color: var(--fill-color);\n",
              "    }\n",
              "    90% {\n",
              "      border-color: transparent;\n",
              "      border-bottom-color: var(--fill-color);\n",
              "    }\n",
              "  }\n",
              "</style>\n",
              "\n",
              "  <script>\n",
              "    async function quickchart(key) {\n",
              "      const quickchartButtonEl =\n",
              "        document.querySelector('#' + key + ' button');\n",
              "      quickchartButtonEl.disabled = true;  // To prevent multiple clicks.\n",
              "      quickchartButtonEl.classList.add('colab-df-spinner');\n",
              "      try {\n",
              "        const charts = await google.colab.kernel.invokeFunction(\n",
              "            'suggestCharts', [key], {});\n",
              "      } catch (error) {\n",
              "        console.error('Error during call to suggestCharts:', error);\n",
              "      }\n",
              "      quickchartButtonEl.classList.remove('colab-df-spinner');\n",
              "      quickchartButtonEl.classList.add('colab-df-quickchart-complete');\n",
              "    }\n",
              "    (() => {\n",
              "      let quickchartButtonEl =\n",
              "        document.querySelector('#df-19959ea7-f7d2-4188-bbc1-21ac1d6dacdd button');\n",
              "      quickchartButtonEl.style.display =\n",
              "        google.colab.kernel.accessAllowed ? 'block' : 'none';\n",
              "    })();\n",
              "  </script>\n",
              "</div>\n",
              "\n",
              "    </div>\n",
              "  </div>\n"
            ],
            "application/vnd.google.colaboratory.intrinsic+json": {
              "type": "dataframe",
              "variable_name": "df5",
              "summary": "{\n  \"name\": \"df5\",\n  \"rows\": 34,\n  \"fields\": [\n    {\n      \"column\": \"term\",\n      \"properties\": {\n        \"dtype\": \"string\",\n        \"num_unique_values\": 34,\n        \"samples\": [\n          \"Layered\",\n          \"Mocha\",\n          \"Silky\"\n        ],\n        \"semantic_type\": \"\",\n        \"description\": \"\"\n      }\n    },\n    {\n      \"column\": \"description\",\n      \"properties\": {\n        \"dtype\": \"string\",\n        \"num_unique_values\": 34,\n        \"samples\": [\n          \"This is one of the subjective wine descriptions of a wine which feels like it has layers of flavor, as opposed to a simple wine which is one dimensional. A complex with with \\\"layers\\\" of flavor, density and extract that coat your palate.\",\n          \"Mocha is coffee flavored with chocolate. Many rich red wines, particularly those with a significant amount of oak aging, can get these wine descriptions. These flavors can be partially from the grapes themselves and partially from the oak aging. Very common in Bordeaux wines, particularly those from the Right Bank with a significant proportion of Merlot.\",\n          \"A wine description of the wine's texture, being fine and like silk. The opposite of rough or rustic.\"\n        ],\n        \"semantic_type\": \"\",\n        \"description\": \"\"\n      }\n    }\n  ]\n}"
            }
          },
          "metadata": {},
          "execution_count": 31
        }
      ]
    },
    {
      "cell_type": "code",
      "source": [],
      "metadata": {
        "id": "mMla0Q1jeEc7"
      },
      "execution_count": null,
      "outputs": []
    }
  ]
}