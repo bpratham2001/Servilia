{
  "nbformat": 4,
  "nbformat_minor": 0,
  "metadata": {
    "colab": {
      "provenance": [],
      "authorship_tag": "ABX9TyMkZXcauR/UHW3Wy2RDGkfu",
      "include_colab_link": true
    },
    "kernelspec": {
      "name": "python3",
      "display_name": "Python 3"
    },
    "language_info": {
      "name": "python"
    }
  },
  "cells": [
    {
      "cell_type": "markdown",
      "metadata": {
        "id": "view-in-github",
        "colab_type": "text"
      },
      "source": [
        "<a href=\"https://colab.research.google.com/github/bpratham2001/Servilia/blob/main/notebooks/Wine_Data.ipynb\" target=\"_parent\"><img src=\"https://colab.research.google.com/assets/colab-badge.svg\" alt=\"Open In Colab\"/></a>"
      ]
    },
    {
      "cell_type": "code",
      "source": [
        "# https://github.com/Kaggle/kagglehub/blob/main/README.md#kaggledatasetadapterpandas\n",
        "#!pip install kagglehub[pandas-datasets]\n",
        "!pip install opendatasets"
      ],
      "metadata": {
        "colab": {
          "base_uri": "https://localhost:8080/"
        },
        "id": "hmPX0I1FVl95",
        "outputId": "a2cbecc9-616c-46c3-b619-a89c17e25c62"
      },
      "execution_count": 12,
      "outputs": [
        {
          "output_type": "stream",
          "name": "stdout",
          "text": [
            "Collecting opendatasets\n",
            "  Downloading opendatasets-0.1.22-py3-none-any.whl.metadata (9.2 kB)\n",
            "Requirement already satisfied: tqdm in /usr/local/lib/python3.11/dist-packages (from opendatasets) (4.67.1)\n",
            "Requirement already satisfied: kaggle in /usr/local/lib/python3.11/dist-packages (from opendatasets) (1.6.17)\n",
            "Requirement already satisfied: click in /usr/local/lib/python3.11/dist-packages (from opendatasets) (8.1.8)\n",
            "Requirement already satisfied: six>=1.10 in /usr/local/lib/python3.11/dist-packages (from kaggle->opendatasets) (1.17.0)\n",
            "Requirement already satisfied: certifi>=2023.7.22 in /usr/local/lib/python3.11/dist-packages (from kaggle->opendatasets) (2025.1.31)\n",
            "Requirement already satisfied: python-dateutil in /usr/local/lib/python3.11/dist-packages (from kaggle->opendatasets) (2.8.2)\n",
            "Requirement already satisfied: requests in /usr/local/lib/python3.11/dist-packages (from kaggle->opendatasets) (2.32.3)\n",
            "Requirement already satisfied: python-slugify in /usr/local/lib/python3.11/dist-packages (from kaggle->opendatasets) (8.0.4)\n",
            "Requirement already satisfied: urllib3 in /usr/local/lib/python3.11/dist-packages (from kaggle->opendatasets) (2.3.0)\n",
            "Requirement already satisfied: bleach in /usr/local/lib/python3.11/dist-packages (from kaggle->opendatasets) (6.2.0)\n",
            "Requirement already satisfied: webencodings in /usr/local/lib/python3.11/dist-packages (from bleach->kaggle->opendatasets) (0.5.1)\n",
            "Requirement already satisfied: text-unidecode>=1.3 in /usr/local/lib/python3.11/dist-packages (from python-slugify->kaggle->opendatasets) (1.3)\n",
            "Requirement already satisfied: charset-normalizer<4,>=2 in /usr/local/lib/python3.11/dist-packages (from requests->kaggle->opendatasets) (3.4.1)\n",
            "Requirement already satisfied: idna<4,>=2.5 in /usr/local/lib/python3.11/dist-packages (from requests->kaggle->opendatasets) (3.10)\n",
            "Downloading opendatasets-0.1.22-py3-none-any.whl (15 kB)\n",
            "Installing collected packages: opendatasets\n",
            "Successfully installed opendatasets-0.1.22\n"
          ]
        }
      ]
    },
    {
      "cell_type": "code",
      "execution_count": 13,
      "metadata": {
        "colab": {
          "base_uri": "https://localhost:8080/"
        },
        "id": "kzFLPYwwVEpQ",
        "outputId": "91ad509a-8dc4-43d5-be66-db6a8271e24d"
      },
      "outputs": [
        {
          "output_type": "stream",
          "name": "stdout",
          "text": [
            "Dataset URL: https://www.kaggle.com/datasets/zynicide/wine-reviews\n",
            "Downloading wine-reviews.zip to ./wine-reviews\n"
          ]
        },
        {
          "output_type": "stream",
          "name": "stderr",
          "text": [
            "100%|██████████| 50.9M/50.9M [00:01<00:00, 29.4MB/s]\n"
          ]
        },
        {
          "output_type": "stream",
          "name": "stdout",
          "text": [
            "\n",
            "Dataset URL: https://www.kaggle.com/datasets/fedesoriano/spanish-wine-quality-dataset\n",
            "Downloading spanish-wine-quality-dataset.zip to ./spanish-wine-quality-dataset\n"
          ]
        },
        {
          "output_type": "stream",
          "name": "stderr",
          "text": [
            "100%|██████████| 46.4k/46.4k [00:00<00:00, 2.24MB/s]"
          ]
        },
        {
          "output_type": "stream",
          "name": "stdout",
          "text": [
            "\n",
            "Dataset URL: https://www.kaggle.com/datasets/elvinrustam/wine-dataset\n"
          ]
        },
        {
          "output_type": "stream",
          "name": "stderr",
          "text": [
            "\n"
          ]
        },
        {
          "output_type": "stream",
          "name": "stdout",
          "text": [
            "Downloading wine-dataset.zip to ./wine-dataset\n"
          ]
        },
        {
          "output_type": "stream",
          "name": "stderr",
          "text": [
            "100%|██████████| 308k/308k [00:00<00:00, 905kB/s]"
          ]
        },
        {
          "output_type": "stream",
          "name": "stdout",
          "text": [
            "\n"
          ]
        },
        {
          "output_type": "stream",
          "name": "stderr",
          "text": [
            "\n",
            "<ipython-input-13-9d26ab70dc83>:28: ParserWarning: Falling back to the 'python' engine because the 'c' engine does not support regex separators (separators > 1 char and different from '\\s+' are interpreted as regex); you can avoid this warning by specifying engine='python'.\n",
            "  df5 = pd.read_csv(file, sep = ' - ')\n",
            "<ipython-input-13-9d26ab70dc83>:30: ParserWarning: Falling back to the 'python' engine because the 'c' engine does not support regex separators (separators > 1 char and different from '\\s+' are interpreted as regex); you can avoid this warning by specifying engine='python'.\n",
            "  df6 = pd.read_csv(file, sep = ' - ')\n",
            "<ipython-input-13-9d26ab70dc83>:32: ParserWarning: Falling back to the 'python' engine because the 'c' engine does not support regex separators (separators > 1 char and different from '\\s+' are interpreted as regex); you can avoid this warning by specifying engine='python'.\n",
            "  df7 = pd.read_csv(file, sep = ' - ')\n"
          ]
        }
      ],
      "source": [
        "import opendatasets as od\n",
        "import pandas as pd\n",
        "import numpy as np\n",
        "flag = False\n",
        "#checked\n",
        "#mysarahmadbhat/wine-tasting // winemag-data-130k-v2.csv \\\\ zynicide/wine-reviews is better\n",
        "\n",
        "#potential sources\n",
        "# https://en.wikipedia.org/wiki/Wine_tasting_descriptors\n",
        "# https://www.wineenthusiast.com/toplists/wine/\n",
        "# https://en.wikipedia.org/wiki/Wine_tasting\n",
        "\n",
        "od.download(\"https://www.kaggle.com/datasets/zynicide/wine-reviews\", force=flag) # winemag-data_first150k.csv, winemag-data-130k-v2.csv\n",
        "file =('wine-reviews/winemag-data_first150k.csv')\n",
        "df1 = pd.read_csv(file)\n",
        "file =('wine-reviews/winemag-data-130k-v2.csv')\n",
        "df2 = pd.read_csv(file)\n",
        "\n",
        "od.download(\"https://www.kaggle.com/datasets/fedesoriano/spanish-wine-quality-dataset\", force=flag) # wines_SPA.csv\n",
        "file =('spanish-wine-quality-dataset/wines_SPA.csv')\n",
        "df3 = pd.read_csv(file)\n",
        "\n",
        "od.download(\"https://www.kaggle.com/datasets/elvinrustam/wine-dataset\", force=flag) # WineDataset.csv\n",
        "file =('wine-dataset/WineDataset.csv')\n",
        "df4 = pd.read_csv(file)\n",
        "\n",
        "file =('wine-tastings-guide.txt') # https://www.wine-tastings-guide.com/wine-descriptions.html\n",
        "df5 = pd.read_csv(file, sep = ' - ')\n",
        "file =('grapes.txt')\n",
        "df6 = pd.read_csv(file, sep = ' - ')\n",
        "file =('FR-IT.txt')\n",
        "df7 = pd.read_csv(file, sep = ' - ')"
      ]
    },
    {
      "cell_type": "code",
      "source": [
        "print(df1.shape[0]+df2.shape[0]+df3.shape[0]+df4.shape[0]+df5.shape[0]+df6.shape[0]+df7.shape[0])"
      ],
      "metadata": {
        "id": "qduPwpjt3KxW",
        "outputId": "0debf3df-52e9-4762-b30f-0bdaebc73b13",
        "colab": {
          "base_uri": "https://localhost:8080/"
        }
      },
      "execution_count": 14,
      "outputs": [
        {
          "output_type": "stream",
          "name": "stdout",
          "text": [
            "289778\n"
          ]
        }
      ]
    },
    {
      "cell_type": "code",
      "source": [
        "df1.rename(columns={'Unnamed: 0': 'id'}, inplace=True)\n",
        "df2.rename(columns={'Unnamed: 0': 'id'}, inplace=True)\n",
        "#df['DataFrame Column'] = df['DataFrame Column'].fillna(0)\n",
        "\n",
        "# fix designation and regions in df1 and df2 // not fixable?\n",
        "#print(df1[df1['designation'].isnull()])\n",
        "#print(df2[df2['designation'].isnull()])\n",
        "region = np.concatenate((df1[df1['region_1'].isnull()].winery.unique(), df2[df2['region_1'].isnull()].winery.unique()))\n",
        "region = np.concatenate((region, df1[df1['region_2'].isnull()].winery.unique()))\n",
        "region = set(np.concatenate((region, df2[df2['region_2'].isnull()].winery.unique())))\n",
        "print(str(len(region)) + \" wineries of unknown region \\n\")\n",
        "#df1.loc[(df1.region_2.isnull()) & (df1.region_1.isnull())])\n",
        "\n",
        "# fix countries in df1 and df2, fix variety in df2\n",
        "countries = {'Tsililis':'Greece', 'Büyülübağ':'Turkey', 'Chilcas':'Chile',\n",
        "             'Gotsa Family Wines':'Georgia', 'Barton & Guestier':'France',\n",
        "             'Kakhetia Traditional Winemaking':'Georgia', 'Ross-idi':'Bulgaria',\n",
        "             'Orbelus':'Bulgaria', 'St. Donat':'Hungary', 'Familia Deicas':'Uruguay','Bartho Eksteen':'South Africa',\n",
        "             'Stone Castle':'Kosovo', 'Teliani Valley':'Georgia', 'Undurraga':'Chile', 'Mt. Beautiful':'New Zealand',\n",
        "             'Neumeister':'Austria', 'Santa Ema':'Chile', 'Psagot':'Israel',\n",
        "             'Newton Johnson':'South Africa', 'Ktima Voyatzi':'Greece', 'Lismore':'South Africa', 'Logodaj':'Bulgaria',\n",
        "             'Somlói Vándor':'Hungary', 'Les Frères Dutruy':'Switzerland', 'El Capricho':'Uruguay',\n",
        "             'Amiran Vepkhvadze':'Georgia'}\n",
        "\n",
        "df2.at[38898, 'country'] = 'Canada'\n",
        "df2.at[38898, 'region_1'] = 'Twenty Mile Bench'\n",
        "df2.at[38898, 'region_2'] = 'Niagara Peninsula'\n",
        "df2.at[86909, 'variety'] = 'Petite Syrah'\n",
        "df2.at[86909, 'region_1'] = 'Maipo Valley'\n",
        "\n",
        "for index, row in df1.iterrows():\n",
        "    if df1.at[index, 'winery'] in countries:\n",
        "      df1.at[index, 'country'] = countries[df1.at[index, 'winery']]\n",
        "for index, row in df2.iterrows():\n",
        "    if df2.at[index, 'winery'] in countries:\n",
        "      df2.at[index, 'country'] = countries[df2.at[index, 'winery']]\n",
        "\n",
        "# merge regions in df1 and df2, drop useless columns\n",
        "for i, row in df1.iterrows():\n",
        "  if df1.at[i, 'region_1'] != df1.at[i, 'region_2']:\n",
        "    if str(df1.at[i, 'region_1']) == 'nan':\n",
        "      df1.at[i, 'region_1'] = str(df1.at[i, 'region_2'])\n",
        "    elif str(df1.at[i, 'region_2']) != 'nan':\n",
        "      df1.at[i, 'region_1'] = (str(df1.at[i, 'region_1']) +\", \"+ str(df1.at[i, 'region_2']))\n",
        "df1 = df1.drop('region_2', axis=1)\n",
        "df1 = df1.drop('price', axis=1)\n",
        "df1 = df1.drop('points', axis=1)\n",
        "\n",
        "for i, row in df2.iterrows():\n",
        "  if df2.at[i, 'region_1'] != df2.at[i, 'region_2']:\n",
        "    if str(df2.at[i, 'region_1']) == 'nan':\n",
        "      df2.at[i, 'region_1'] = str(df2.at[i, 'region_2'])\n",
        "    elif str(df2.at[i, 'region_2']) != 'nan':\n",
        "      df2.at[i, 'region_1'] = (str(df2.at[i, 'region_1']) +\", \"+ str(df2.at[i, 'region_2']))\n",
        "df2 = df2.drop('region_2', axis=1)\n",
        "df2 = df2.drop('taster_twitter_handle', axis=1)\n",
        "df2 = df2.drop('price', axis=1)\n",
        "\n",
        "# check df1/df2 stats\n",
        "for i in df1.keys():\n",
        "  print(i +\" \"+ str(df1[i].isnull().values.any()))\n",
        "df1.isnull().values.any()\n",
        "print(\"\\n\")\n",
        "for i in df2.keys():\n",
        "  print(i +\" \"+ str(df2[i].isnull().values.any()))"
      ],
      "metadata": {
        "colab": {
          "base_uri": "https://localhost:8080/"
        },
        "id": "Anp9JxMAxH13",
        "outputId": "e418c14a-6799-4d32-cfa3-0afe78b67e78"
      },
      "execution_count": 15,
      "outputs": [
        {
          "output_type": "stream",
          "name": "stdout",
          "text": [
            "14017 wineries of unknown region \n",
            "\n",
            "id False\n",
            "country False\n",
            "description False\n",
            "designation True\n",
            "province True\n",
            "region_1 False\n",
            "variety False\n",
            "winery False\n",
            "\n",
            "\n",
            "id False\n",
            "country False\n",
            "description False\n",
            "designation True\n",
            "points False\n",
            "province True\n",
            "region_1 False\n",
            "taster_name True\n",
            "title False\n",
            "variety False\n",
            "winery False\n"
          ]
        }
      ]
    },
    {
      "cell_type": "code",
      "source": [
        "for i, row in df3.iterrows():\n",
        "  df3.at[i, 'country'] = \"Spain\"\n",
        "df3 = df3.drop('price', axis=1)\n",
        "for i in df3.keys():\n",
        "  print(i +\" \"+ str(df3[i].isnull().values.any()))"
      ],
      "metadata": {
        "colab": {
          "base_uri": "https://localhost:8080/"
        },
        "id": "dH6bitowI5p3",
        "outputId": "1b4aea23-99a4-4a8f-f808-a0f6138a4e3d"
      },
      "execution_count": 16,
      "outputs": [
        {
          "output_type": "stream",
          "name": "stdout",
          "text": [
            "winery False\n",
            "wine False\n",
            "year True\n",
            "rating False\n",
            "num_reviews False\n",
            "country False\n",
            "region False\n",
            "type True\n",
            "body True\n",
            "acidity True\n"
          ]
        }
      ]
    },
    {
      "cell_type": "code",
      "source": [
        "for i, row in df4.iterrows():\n",
        "  if df4.at[i, 'Country'] == 'USA':\n",
        "    df4.at[i, 'Country'] = 'US'\n",
        "df4 = df4.drop('Price', axis=1)\n",
        "df4 = df4.drop('Capacity', axis=1)\n",
        "df4 = df4.drop('Unit', axis=1)\n",
        "df4 = df4.drop('Per bottle / case / each', axis=1)\n",
        "df4 = df4.drop('ABV', axis=1)\n",
        "for i in df4.keys():\n",
        "  print(i +\" \"+ str(df4[i].isnull().values.any()))"
      ],
      "metadata": {
        "colab": {
          "base_uri": "https://localhost:8080/"
        },
        "id": "c8Rf-VlZXsMH",
        "outputId": "ccdec8b1-bc64-46c5-dff0-176cf3bbb88b"
      },
      "execution_count": 17,
      "outputs": [
        {
          "output_type": "stream",
          "name": "stdout",
          "text": [
            "Title False\n",
            "Description True\n",
            "Grape True\n",
            "Secondary Grape Varieties True\n",
            "Closure True\n",
            "Country True\n",
            "Characteristics True\n",
            "Type True\n",
            "Region True\n",
            "Style True\n",
            "Vintage True\n",
            "Appellation True\n"
          ]
        }
      ]
    },
    {
      "cell_type": "code",
      "source": [
        "#target format\n",
        "# how to train on df? yahma/alpaca-cleaned\n",
        "df = pd.read_json(\"hf://datasets/yahma/alpaca-cleaned/alpaca_data_cleaned.json\")\n",
        "df.head()"
      ],
      "metadata": {
        "colab": {
          "base_uri": "https://localhost:8080/",
          "height": 206
        },
        "id": "iar34NyNYCka",
        "outputId": "829c93e2-f0d2-413a-9f9f-496b3fd47959"
      },
      "execution_count": 10,
      "outputs": [
        {
          "output_type": "execute_result",
          "data": {
            "text/plain": [
              "                                         instruction input  \\\n",
              "0               Give three tips for staying healthy.         \n",
              "1                 What are the three primary colors?         \n",
              "2                 Describe the structure of an atom.         \n",
              "3                   How can we reduce air pollution?         \n",
              "4  Pretend you are a project manager of a constru...         \n",
              "\n",
              "                                              output  \n",
              "0  1. Eat a balanced and nutritious diet: Make su...  \n",
              "1  The three primary colors are red, blue, and ye...  \n",
              "2  An atom is the basic building block of all mat...  \n",
              "3  There are several ways to reduce air pollution...  \n",
              "4  I had to make a difficult decision when I was ...  "
            ],
            "text/html": [
              "\n",
              "  <div id=\"df-3a88a64f-09af-4266-9d97-0e7ba07ed704\" class=\"colab-df-container\">\n",
              "    <div>\n",
              "<style scoped>\n",
              "    .dataframe tbody tr th:only-of-type {\n",
              "        vertical-align: middle;\n",
              "    }\n",
              "\n",
              "    .dataframe tbody tr th {\n",
              "        vertical-align: top;\n",
              "    }\n",
              "\n",
              "    .dataframe thead th {\n",
              "        text-align: right;\n",
              "    }\n",
              "</style>\n",
              "<table border=\"1\" class=\"dataframe\">\n",
              "  <thead>\n",
              "    <tr style=\"text-align: right;\">\n",
              "      <th></th>\n",
              "      <th>instruction</th>\n",
              "      <th>input</th>\n",
              "      <th>output</th>\n",
              "    </tr>\n",
              "  </thead>\n",
              "  <tbody>\n",
              "    <tr>\n",
              "      <th>0</th>\n",
              "      <td>Give three tips for staying healthy.</td>\n",
              "      <td></td>\n",
              "      <td>1. Eat a balanced and nutritious diet: Make su...</td>\n",
              "    </tr>\n",
              "    <tr>\n",
              "      <th>1</th>\n",
              "      <td>What are the three primary colors?</td>\n",
              "      <td></td>\n",
              "      <td>The three primary colors are red, blue, and ye...</td>\n",
              "    </tr>\n",
              "    <tr>\n",
              "      <th>2</th>\n",
              "      <td>Describe the structure of an atom.</td>\n",
              "      <td></td>\n",
              "      <td>An atom is the basic building block of all mat...</td>\n",
              "    </tr>\n",
              "    <tr>\n",
              "      <th>3</th>\n",
              "      <td>How can we reduce air pollution?</td>\n",
              "      <td></td>\n",
              "      <td>There are several ways to reduce air pollution...</td>\n",
              "    </tr>\n",
              "    <tr>\n",
              "      <th>4</th>\n",
              "      <td>Pretend you are a project manager of a constru...</td>\n",
              "      <td></td>\n",
              "      <td>I had to make a difficult decision when I was ...</td>\n",
              "    </tr>\n",
              "  </tbody>\n",
              "</table>\n",
              "</div>\n",
              "    <div class=\"colab-df-buttons\">\n",
              "\n",
              "  <div class=\"colab-df-container\">\n",
              "    <button class=\"colab-df-convert\" onclick=\"convertToInteractive('df-3a88a64f-09af-4266-9d97-0e7ba07ed704')\"\n",
              "            title=\"Convert this dataframe to an interactive table.\"\n",
              "            style=\"display:none;\">\n",
              "\n",
              "  <svg xmlns=\"http://www.w3.org/2000/svg\" height=\"24px\" viewBox=\"0 -960 960 960\">\n",
              "    <path d=\"M120-120v-720h720v720H120Zm60-500h600v-160H180v160Zm220 220h160v-160H400v160Zm0 220h160v-160H400v160ZM180-400h160v-160H180v160Zm440 0h160v-160H620v160ZM180-180h160v-160H180v160Zm440 0h160v-160H620v160Z\"/>\n",
              "  </svg>\n",
              "    </button>\n",
              "\n",
              "  <style>\n",
              "    .colab-df-container {\n",
              "      display:flex;\n",
              "      gap: 12px;\n",
              "    }\n",
              "\n",
              "    .colab-df-convert {\n",
              "      background-color: #E8F0FE;\n",
              "      border: none;\n",
              "      border-radius: 50%;\n",
              "      cursor: pointer;\n",
              "      display: none;\n",
              "      fill: #1967D2;\n",
              "      height: 32px;\n",
              "      padding: 0 0 0 0;\n",
              "      width: 32px;\n",
              "    }\n",
              "\n",
              "    .colab-df-convert:hover {\n",
              "      background-color: #E2EBFA;\n",
              "      box-shadow: 0px 1px 2px rgba(60, 64, 67, 0.3), 0px 1px 3px 1px rgba(60, 64, 67, 0.15);\n",
              "      fill: #174EA6;\n",
              "    }\n",
              "\n",
              "    .colab-df-buttons div {\n",
              "      margin-bottom: 4px;\n",
              "    }\n",
              "\n",
              "    [theme=dark] .colab-df-convert {\n",
              "      background-color: #3B4455;\n",
              "      fill: #D2E3FC;\n",
              "    }\n",
              "\n",
              "    [theme=dark] .colab-df-convert:hover {\n",
              "      background-color: #434B5C;\n",
              "      box-shadow: 0px 1px 3px 1px rgba(0, 0, 0, 0.15);\n",
              "      filter: drop-shadow(0px 1px 2px rgba(0, 0, 0, 0.3));\n",
              "      fill: #FFFFFF;\n",
              "    }\n",
              "  </style>\n",
              "\n",
              "    <script>\n",
              "      const buttonEl =\n",
              "        document.querySelector('#df-3a88a64f-09af-4266-9d97-0e7ba07ed704 button.colab-df-convert');\n",
              "      buttonEl.style.display =\n",
              "        google.colab.kernel.accessAllowed ? 'block' : 'none';\n",
              "\n",
              "      async function convertToInteractive(key) {\n",
              "        const element = document.querySelector('#df-3a88a64f-09af-4266-9d97-0e7ba07ed704');\n",
              "        const dataTable =\n",
              "          await google.colab.kernel.invokeFunction('convertToInteractive',\n",
              "                                                    [key], {});\n",
              "        if (!dataTable) return;\n",
              "\n",
              "        const docLinkHtml = 'Like what you see? Visit the ' +\n",
              "          '<a target=\"_blank\" href=https://colab.research.google.com/notebooks/data_table.ipynb>data table notebook</a>'\n",
              "          + ' to learn more about interactive tables.';\n",
              "        element.innerHTML = '';\n",
              "        dataTable['output_type'] = 'display_data';\n",
              "        await google.colab.output.renderOutput(dataTable, element);\n",
              "        const docLink = document.createElement('div');\n",
              "        docLink.innerHTML = docLinkHtml;\n",
              "        element.appendChild(docLink);\n",
              "      }\n",
              "    </script>\n",
              "  </div>\n",
              "\n",
              "\n",
              "<div id=\"df-beeeff6d-d998-4cb8-8e5f-3ebc6d1cd254\">\n",
              "  <button class=\"colab-df-quickchart\" onclick=\"quickchart('df-beeeff6d-d998-4cb8-8e5f-3ebc6d1cd254')\"\n",
              "            title=\"Suggest charts\"\n",
              "            style=\"display:none;\">\n",
              "\n",
              "<svg xmlns=\"http://www.w3.org/2000/svg\" height=\"24px\"viewBox=\"0 0 24 24\"\n",
              "     width=\"24px\">\n",
              "    <g>\n",
              "        <path d=\"M19 3H5c-1.1 0-2 .9-2 2v14c0 1.1.9 2 2 2h14c1.1 0 2-.9 2-2V5c0-1.1-.9-2-2-2zM9 17H7v-7h2v7zm4 0h-2V7h2v10zm4 0h-2v-4h2v4z\"/>\n",
              "    </g>\n",
              "</svg>\n",
              "  </button>\n",
              "\n",
              "<style>\n",
              "  .colab-df-quickchart {\n",
              "      --bg-color: #E8F0FE;\n",
              "      --fill-color: #1967D2;\n",
              "      --hover-bg-color: #E2EBFA;\n",
              "      --hover-fill-color: #174EA6;\n",
              "      --disabled-fill-color: #AAA;\n",
              "      --disabled-bg-color: #DDD;\n",
              "  }\n",
              "\n",
              "  [theme=dark] .colab-df-quickchart {\n",
              "      --bg-color: #3B4455;\n",
              "      --fill-color: #D2E3FC;\n",
              "      --hover-bg-color: #434B5C;\n",
              "      --hover-fill-color: #FFFFFF;\n",
              "      --disabled-bg-color: #3B4455;\n",
              "      --disabled-fill-color: #666;\n",
              "  }\n",
              "\n",
              "  .colab-df-quickchart {\n",
              "    background-color: var(--bg-color);\n",
              "    border: none;\n",
              "    border-radius: 50%;\n",
              "    cursor: pointer;\n",
              "    display: none;\n",
              "    fill: var(--fill-color);\n",
              "    height: 32px;\n",
              "    padding: 0;\n",
              "    width: 32px;\n",
              "  }\n",
              "\n",
              "  .colab-df-quickchart:hover {\n",
              "    background-color: var(--hover-bg-color);\n",
              "    box-shadow: 0 1px 2px rgba(60, 64, 67, 0.3), 0 1px 3px 1px rgba(60, 64, 67, 0.15);\n",
              "    fill: var(--button-hover-fill-color);\n",
              "  }\n",
              "\n",
              "  .colab-df-quickchart-complete:disabled,\n",
              "  .colab-df-quickchart-complete:disabled:hover {\n",
              "    background-color: var(--disabled-bg-color);\n",
              "    fill: var(--disabled-fill-color);\n",
              "    box-shadow: none;\n",
              "  }\n",
              "\n",
              "  .colab-df-spinner {\n",
              "    border: 2px solid var(--fill-color);\n",
              "    border-color: transparent;\n",
              "    border-bottom-color: var(--fill-color);\n",
              "    animation:\n",
              "      spin 1s steps(1) infinite;\n",
              "  }\n",
              "\n",
              "  @keyframes spin {\n",
              "    0% {\n",
              "      border-color: transparent;\n",
              "      border-bottom-color: var(--fill-color);\n",
              "      border-left-color: var(--fill-color);\n",
              "    }\n",
              "    20% {\n",
              "      border-color: transparent;\n",
              "      border-left-color: var(--fill-color);\n",
              "      border-top-color: var(--fill-color);\n",
              "    }\n",
              "    30% {\n",
              "      border-color: transparent;\n",
              "      border-left-color: var(--fill-color);\n",
              "      border-top-color: var(--fill-color);\n",
              "      border-right-color: var(--fill-color);\n",
              "    }\n",
              "    40% {\n",
              "      border-color: transparent;\n",
              "      border-right-color: var(--fill-color);\n",
              "      border-top-color: var(--fill-color);\n",
              "    }\n",
              "    60% {\n",
              "      border-color: transparent;\n",
              "      border-right-color: var(--fill-color);\n",
              "    }\n",
              "    80% {\n",
              "      border-color: transparent;\n",
              "      border-right-color: var(--fill-color);\n",
              "      border-bottom-color: var(--fill-color);\n",
              "    }\n",
              "    90% {\n",
              "      border-color: transparent;\n",
              "      border-bottom-color: var(--fill-color);\n",
              "    }\n",
              "  }\n",
              "</style>\n",
              "\n",
              "  <script>\n",
              "    async function quickchart(key) {\n",
              "      const quickchartButtonEl =\n",
              "        document.querySelector('#' + key + ' button');\n",
              "      quickchartButtonEl.disabled = true;  // To prevent multiple clicks.\n",
              "      quickchartButtonEl.classList.add('colab-df-spinner');\n",
              "      try {\n",
              "        const charts = await google.colab.kernel.invokeFunction(\n",
              "            'suggestCharts', [key], {});\n",
              "      } catch (error) {\n",
              "        console.error('Error during call to suggestCharts:', error);\n",
              "      }\n",
              "      quickchartButtonEl.classList.remove('colab-df-spinner');\n",
              "      quickchartButtonEl.classList.add('colab-df-quickchart-complete');\n",
              "    }\n",
              "    (() => {\n",
              "      let quickchartButtonEl =\n",
              "        document.querySelector('#df-beeeff6d-d998-4cb8-8e5f-3ebc6d1cd254 button');\n",
              "      quickchartButtonEl.style.display =\n",
              "        google.colab.kernel.accessAllowed ? 'block' : 'none';\n",
              "    })();\n",
              "  </script>\n",
              "</div>\n",
              "\n",
              "    </div>\n",
              "  </div>\n"
            ],
            "application/vnd.google.colaboratory.intrinsic+json": {
              "type": "dataframe",
              "variable_name": "df",
              "summary": "{\n  \"name\": \"df\",\n  \"rows\": 51760,\n  \"fields\": [\n    {\n      \"column\": \"instruction\",\n      \"properties\": {\n        \"dtype\": \"string\",\n        \"num_unique_values\": 51725,\n        \"samples\": [\n          \"Calculate the standard deviation for the following numbers.\",\n          \"Automatically insert a semicolon at the end of this line of code\",\n          \"Determine how many seconds are in a day.\"\n        ],\n        \"semantic_type\": \"\",\n        \"description\": \"\"\n      }\n    },\n    {\n      \"column\": \"input\",\n      \"properties\": {\n        \"dtype\": \"category\",\n        \"num_unique_values\": 18363,\n        \"samples\": [\n          \"Document: This document describes the challenges faced by small business owners in the digital age, and how they can respond to these challenges in order to remain successful.\",\n          \"How to reduce the number of plastic bags used in the grocery store?\",\n          \"Suggestion: A cat obsessed with astronomy\"\n        ],\n        \"semantic_type\": \"\",\n        \"description\": \"\"\n      }\n    },\n    {\n      \"column\": \"output\",\n      \"properties\": {\n        \"dtype\": \"string\",\n        \"num_unique_values\": 51498,\n        \"samples\": [\n          \"The midday sun shone high in the sky, casting golden rays upon the fields of lush green grass. In the distance, a castle stood tall and proud, its grey stone walls a testament to the power of its lord. A young peasant girl worked in the fields, her hands stained with dirt and sweat beading on her brow. Suddenly, she heard the sound of hooves approaching and turned to see a knight on horseback, his armor shining in the sun. He dismounted and approached her, offering a smile and a helping hand. And so, a friendship was forged, in the shadow of the castle.\",\n          \"Two common characteristics of mammals are:\\n1. Mammary glands: Female mammals possess mammary glands that produce milk to nourish their offspring.\\n2. Hair or fur: All mammals have some form of hair or fur on their bodies, which provides insulation and helps regulate body temperature.\",\n          \"The quadratic equation is in standard form: `ax^2 + bx + c = 0` where a = 7, b = 2 and c = 7. So given equation is already in quadratic form, which is 7x^2 + 2x + 7 = 0.\"\n        ],\n        \"semantic_type\": \"\",\n        \"description\": \"\"\n      }\n    }\n  ]\n}"
            }
          },
          "metadata": {},
          "execution_count": 10
        }
      ]
    },
    {
      "cell_type": "code",
      "source": [
        "from random import randint as r\n",
        "# prompts\n",
        "imp = [\"Tell me more about\", \"Describe\", \"I would like to know more about\", \"I want to know more about\",\n",
        "       \"Tell me what\", \"Explain\", \"Elaborate\", \"Enlighten me on\", \"Educate me on\"]\n",
        "what_singular = [\"What is\", \"What's\"]\n",
        "what_plural = [\"What are\"]\n",
        "how_singular = [\"How does\", \"How is\", \"How can\", \"How come\"]\n",
        "how_plural = [\"How do\", \"How are\", \"How can\", \"How come\"]\n",
        "where_singular = [\"Where is\", \"What is the location of\", \"Where can I find\", \"How do I come across\"]\n",
        "where_plural = [\"Where are\", \"What are the locations of\"]\n",
        "why_singular = [\"Why does\", \"Why is\", \"Why would\"]\n",
        "why_plural = [\"Why do\", \"Why are\"]\n",
        "pref = [\"I like\", \"I prefer\", \"I enjoy\", \"I love\", \"I don't mind\"]\n",
        "rank = [\"over\", \"instead of\", \"less than\", \"more than\", \"not as much as\", \"as much as\",\n",
        "        \"almost as much as\", \"almost as little as\", \"as little as\"]\n",
        "npref = [\"I hate\", \"I detest\", \"I can't stand\", \"I'm wary of\", \"I don't like\"]\n",
        "point = [\"this\", \"that\", \"it\"]\n",
        "connect = [\"and\", \"with\", \"also\", \"but\", \"to\", \"cum\"]\n",
        "\n",
        "df0 = pd.DataFrame(columns=['instruction', 'input', 'output'])"
      ],
      "metadata": {
        "id": "mMla0Q1jeEc7"
      },
      "execution_count": 24,
      "outputs": []
    },
    {
      "cell_type": "code",
      "source": [
        "# functions to construct question/answers from Kaggle databases // incomplete\n",
        "def df1_construct_in(index, topic):\n",
        "  instruction = str(imp[r(0, 8)] + \" \" + topic + \".\")\n",
        "  pass\n",
        "\n",
        "def df1_construct_out(row, topic):\n",
        "  output = row['description'] + 'From ' + row['winery']\n",
        "  if row['region_1'] != 'nan':\n",
        "    output += \", in \" + row['region_1'] + \",\" + row['country']\n",
        "  else:\n",
        "    output += \", in \" + row['country']\n",
        "  if str(row['designation']) != 'nan' and str(row['variety']) != 'nan':\n",
        "    output += \", this \" + row['variety']"
      ],
      "metadata": {
        "id": "bulQoiwmymfd"
      },
      "execution_count": 26,
      "outputs": []
    },
    {
      "cell_type": "code",
      "source": [
        "# functions to construct question/answers from blogs/articles\n",
        "def construct_full(row, rng):\n",
        "  if rng == 0:\n",
        "    instruction = str(imp[r(0, 8)] + \" \" +row['word']+\".\")\n",
        "  elif rng == 1:\n",
        "    instruction = str(what_singular[r(0, 1)] + \" \" +row['word']+\"?\")\n",
        "  else:\n",
        "    instruction = str(pref[r(0, 4)] + \" \" +row['word']+\".\")\n",
        "  output = row['description']\n",
        "  return instruction, output"
      ],
      "metadata": {
        "id": "Y8VCUg0s4aNZ"
      },
      "execution_count": 32,
      "outputs": []
    },
    {
      "cell_type": "code",
      "source": [
        "df5.shape[0]+df6.shape[0]+df7.shape[0]"
      ],
      "metadata": {
        "id": "VtvbSztj7pi4",
        "outputId": "4a3296ac-3d1c-46fd-d74e-edb84116e38f",
        "colab": {
          "base_uri": "https://localhost:8080/"
        }
      },
      "execution_count": 33,
      "outputs": [
        {
          "output_type": "execute_result",
          "data": {
            "text/plain": [
              "87"
            ]
          },
          "metadata": {},
          "execution_count": 33
        }
      ]
    },
    {
      "cell_type": "code",
      "source": [
        "for i,r in df1.iterrows():\n",
        "  print(r['country'])\n",
        "  break"
      ],
      "metadata": {
        "id": "WP7m43DM-pBe"
      },
      "execution_count": null,
      "outputs": []
    }
  ]
}