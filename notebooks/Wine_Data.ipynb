{
  "nbformat": 4,
  "nbformat_minor": 0,
  "metadata": {
    "colab": {
      "provenance": [],
      "authorship_tag": "ABX9TyNsydyGfqBzMrJmLaBurdI0",
      "include_colab_link": true
    },
    "kernelspec": {
      "name": "python3",
      "display_name": "Python 3"
    },
    "language_info": {
      "name": "python"
    }
  },
  "cells": [
    {
      "cell_type": "markdown",
      "metadata": {
        "id": "view-in-github",
        "colab_type": "text"
      },
      "source": [
        "<a href=\"https://colab.research.google.com/github/bpratham2001/Servilia/blob/main/notebooks/Wine_Data.ipynb\" target=\"_parent\"><img src=\"https://colab.research.google.com/assets/colab-badge.svg\" alt=\"Open In Colab\"/></a>"
      ]
    },
    {
      "cell_type": "code",
      "source": [
        "# https://github.com/Kaggle/kagglehub/blob/main/README.md#kaggledatasetadapterpandas\n",
        "#!pip install kagglehub[pandas-datasets]\n",
        "!pip install opendatasets"
      ],
      "metadata": {
        "colab": {
          "base_uri": "https://localhost:8080/"
        },
        "id": "hmPX0I1FVl95",
        "outputId": "5246d25c-3848-4839-f7d1-62db1a37cc6f"
      },
      "execution_count": 1,
      "outputs": [
        {
          "output_type": "stream",
          "name": "stdout",
          "text": [
            "Collecting opendatasets\n",
            "  Downloading opendatasets-0.1.22-py3-none-any.whl.metadata (9.2 kB)\n",
            "Requirement already satisfied: tqdm in /usr/local/lib/python3.11/dist-packages (from opendatasets) (4.67.1)\n",
            "Requirement already satisfied: kaggle in /usr/local/lib/python3.11/dist-packages (from opendatasets) (1.6.17)\n",
            "Requirement already satisfied: click in /usr/local/lib/python3.11/dist-packages (from opendatasets) (8.1.8)\n",
            "Requirement already satisfied: six>=1.10 in /usr/local/lib/python3.11/dist-packages (from kaggle->opendatasets) (1.17.0)\n",
            "Requirement already satisfied: certifi>=2023.7.22 in /usr/local/lib/python3.11/dist-packages (from kaggle->opendatasets) (2025.1.31)\n",
            "Requirement already satisfied: python-dateutil in /usr/local/lib/python3.11/dist-packages (from kaggle->opendatasets) (2.8.2)\n",
            "Requirement already satisfied: requests in /usr/local/lib/python3.11/dist-packages (from kaggle->opendatasets) (2.32.3)\n",
            "Requirement already satisfied: python-slugify in /usr/local/lib/python3.11/dist-packages (from kaggle->opendatasets) (8.0.4)\n",
            "Requirement already satisfied: urllib3 in /usr/local/lib/python3.11/dist-packages (from kaggle->opendatasets) (2.3.0)\n",
            "Requirement already satisfied: bleach in /usr/local/lib/python3.11/dist-packages (from kaggle->opendatasets) (6.2.0)\n",
            "Requirement already satisfied: webencodings in /usr/local/lib/python3.11/dist-packages (from bleach->kaggle->opendatasets) (0.5.1)\n",
            "Requirement already satisfied: text-unidecode>=1.3 in /usr/local/lib/python3.11/dist-packages (from python-slugify->kaggle->opendatasets) (1.3)\n",
            "Requirement already satisfied: charset-normalizer<4,>=2 in /usr/local/lib/python3.11/dist-packages (from requests->kaggle->opendatasets) (3.4.1)\n",
            "Requirement already satisfied: idna<4,>=2.5 in /usr/local/lib/python3.11/dist-packages (from requests->kaggle->opendatasets) (3.10)\n",
            "Downloading opendatasets-0.1.22-py3-none-any.whl (15 kB)\n",
            "Installing collected packages: opendatasets\n",
            "Successfully installed opendatasets-0.1.22\n"
          ]
        }
      ]
    },
    {
      "cell_type": "code",
      "execution_count": 41,
      "metadata": {
        "colab": {
          "base_uri": "https://localhost:8080/"
        },
        "id": "kzFLPYwwVEpQ",
        "outputId": "c2059b4b-3596-46b6-b9af-c0558959627b"
      },
      "outputs": [
        {
          "output_type": "stream",
          "name": "stdout",
          "text": [
            "Dataset URL: https://www.kaggle.com/datasets/zynicide/wine-reviews\n",
            "Downloading wine-reviews.zip to ./wine-reviews\n"
          ]
        },
        {
          "output_type": "stream",
          "name": "stderr",
          "text": [
            "100%|██████████| 50.9M/50.9M [00:00<00:00, 231MB/s]\n"
          ]
        },
        {
          "output_type": "stream",
          "name": "stdout",
          "text": [
            "\n",
            "Dataset URL: https://www.kaggle.com/datasets/fedesoriano/spanish-wine-quality-dataset\n",
            "Downloading spanish-wine-quality-dataset.zip to ./spanish-wine-quality-dataset\n"
          ]
        },
        {
          "output_type": "stream",
          "name": "stderr",
          "text": [
            "100%|██████████| 46.4k/46.4k [00:00<00:00, 13.2MB/s]"
          ]
        },
        {
          "output_type": "stream",
          "name": "stdout",
          "text": [
            "\n",
            "Dataset URL: https://www.kaggle.com/datasets/elvinrustam/wine-dataset\n"
          ]
        },
        {
          "output_type": "stream",
          "name": "stderr",
          "text": [
            "\n"
          ]
        },
        {
          "output_type": "stream",
          "name": "stdout",
          "text": [
            "Downloading wine-dataset.zip to ./wine-dataset\n"
          ]
        },
        {
          "output_type": "stream",
          "name": "stderr",
          "text": [
            "100%|██████████| 308k/308k [00:00<00:00, 58.0MB/s]"
          ]
        },
        {
          "output_type": "stream",
          "name": "stdout",
          "text": [
            "\n"
          ]
        },
        {
          "output_type": "stream",
          "name": "stderr",
          "text": [
            "\n"
          ]
        }
      ],
      "source": [
        "import opendatasets as od\n",
        "import pandas as pd\n",
        "import numpy as np\n",
        "\n",
        "#checked\n",
        "#mysarahmadbhat/wine-tasting // winemag-data-130k-v2.csv \\\\ zynicide/wine-reviews is better\n",
        "\n",
        "#potential sources\n",
        "# https://en.wikipedia.org/wiki/Wine_tasting_descriptors\n",
        "# https://www.wineenthusiast.com/toplists/wine/\n",
        "# https://www.wine-tastings-guide.com/wine-descriptions.html\n",
        "# https://en.wikipedia.org/wiki/Wine_tasting\n",
        "\n",
        "od.download(\"https://www.kaggle.com/datasets/zynicide/wine-reviews\", force=True) # winemag-data_first150k.csv, winemag-data-130k-v2.csv\n",
        "file =('wine-reviews/winemag-data_first150k.csv')\n",
        "df1 = pd.read_csv(file)\n",
        "file =('wine-reviews/winemag-data-130k-v2.csv')\n",
        "df2 = pd.read_csv(file)\n",
        "\n",
        "od.download(\"https://www.kaggle.com/datasets/fedesoriano/spanish-wine-quality-dataset\", force=True) # wines_SPA.csv\n",
        "file =('spanish-wine-quality-dataset/wines_SPA.csv')\n",
        "df3 = pd.read_csv(file)\n",
        "\n",
        "od.download(\"https://www.kaggle.com/datasets/elvinrustam/wine-dataset\", force=True) # WineDataset.csv\n",
        "file =('wine-dataset/WineDataset.csv')\n",
        "df4 = pd.read_csv(file)"
      ]
    },
    {
      "cell_type": "code",
      "source": [
        "df1.rename(columns={'Unnamed: 0': 'id'}, inplace=True)\n",
        "df2.rename(columns={'Unnamed: 0': 'id'}, inplace=True)\n",
        "#df['DataFrame Column'] = df['DataFrame Column'].fillna(0)"
      ],
      "metadata": {
        "id": "5XrxyViKV5m0"
      },
      "execution_count": 42,
      "outputs": []
    },
    {
      "cell_type": "code",
      "source": [
        "for i in df1.keys():\n",
        "  print(i +\" \"+ str(df1[i].isnull().values.any()))\n",
        "#df1.isnull().values.any()\n",
        "print(\"\\n\")\n",
        "for i in df2.keys():\n",
        "  print(i +\" \"+ str(df2[i].isnull().values.any()))"
      ],
      "metadata": {
        "id": "SiouU173wRQd",
        "outputId": "45be3a0f-7e83-4ca7-86df-c8918865bd57",
        "colab": {
          "base_uri": "https://localhost:8080/"
        }
      },
      "execution_count": 43,
      "outputs": [
        {
          "output_type": "stream",
          "name": "stdout",
          "text": [
            "id False\n",
            "country True\n",
            "description False\n",
            "designation True\n",
            "points False\n",
            "price True\n",
            "province True\n",
            "region_1 True\n",
            "region_2 True\n",
            "variety False\n",
            "winery False\n",
            "\n",
            "\n",
            "id False\n",
            "country True\n",
            "description False\n",
            "designation True\n",
            "points False\n",
            "price True\n",
            "province True\n",
            "region_1 True\n",
            "region_2 True\n",
            "taster_name True\n",
            "taster_twitter_handle True\n",
            "title False\n",
            "variety True\n",
            "winery False\n"
          ]
        }
      ]
    },
    {
      "cell_type": "code",
      "source": [
        "# fix countries in df1 and df2\n",
        "df1.at[1133, 'country'] = 'Greece'\n",
        "df1.at[1440, 'country'] = 'Turkey'\n",
        "df1.at[68226, 'country'] = 'Chile'\n",
        "df1.at[113016, 'country'] = 'Chile'\n",
        "df1.at[135696, 'country'] = 'Chile'\n",
        "\n",
        "#df2.at[?, 'country'] = '?'\n",
        "countries = {'Tsililis':'Greece', 'Büyülübağ':'Turkey', 'Chilcas':'Chile',\n",
        "             'Gotsa Family Wines':'Georgia', 'Barton & Guestier':'France',\n",
        "             'Kakhetia Traditional Winemaking':'Georgia', 'Ross-idi':'Bulgaria',\n",
        "             'Orbelus':'Bulgaria', 'St. Donat':'Hungary', 'Familia Deicas':'Uruguay','Bartho Eksteen':'South Africa',\n",
        "             'Stone Castle':'Kosovo', 'Teliani Valley':'Georgia', 'Undurraga':'Chile', 'Mt. Beautiful':'New Zealand',\n",
        "             'Neumeister':'Austria', 'Bachelder':'? US,CA,FR', 'Santa Ema':'Chile', 'Psagot':'Israel',\n",
        "             'Newton Johnson':'South Africa', 'Ktima Voyatzi':'', 'Lismore':'', 'Logodaj':'',\n",
        "             'Somlói Vándor':'', 'Les Frères Dutruy':'', 'El Capricho':'',\n",
        "             'Amiran Vepkhvadze':''}"
      ],
      "metadata": {
        "id": "Anp9JxMAxH13"
      },
      "execution_count": 24,
      "outputs": []
    },
    {
      "cell_type": "code",
      "source": [
        "print(df1[df1['country'].isnull()].winery.unique())\n",
        "df2[df2['country'].isnull()].winery.unique()"
      ],
      "metadata": {
        "id": "1fcWIkJr2Dv3",
        "outputId": "b0925f6d-6488-4d0c-9b24-8fa8d9377bda",
        "colab": {
          "base_uri": "https://localhost:8080/"
        }
      },
      "execution_count": 53,
      "outputs": [
        {
          "output_type": "stream",
          "name": "stdout",
          "text": [
            "['Tsililis' 'Büyülübağ' 'Chilcas']\n"
          ]
        },
        {
          "output_type": "execute_result",
          "data": {
            "text/plain": [
              "array(['Gotsa Family Wines', 'Barton & Guestier',\n",
              "       'Kakhetia Traditional Winemaking', 'Tsililis', 'Ross-idi',\n",
              "       'Orbelus', 'St. Donat', 'Familia Deicas', 'Bartho Eksteen',\n",
              "       'Stone Castle', 'Teliani Valley', 'Undurraga', 'Mt. Beautiful',\n",
              "       'Neumeister', 'Bachelder', 'Chilcas', 'Santa Ema', 'Psagot',\n",
              "       'Newton Johnson', 'Ktima Voyatzi', 'Lismore', 'Logodaj',\n",
              "       'Somlói Vándor', 'Les Frères Dutruy', 'El Capricho',\n",
              "       'Amiran Vepkhvadze', 'Büyülübağ'], dtype=object)"
            ]
          },
          "metadata": {},
          "execution_count": 53
        }
      ]
    },
    {
      "cell_type": "code",
      "source": [
        "country = set(np.concatenate((df1[df1['country'].isnull()].winery.unique(), df2[df2['country'].isnull()].winery.unique())))\n",
        "len(country)"
      ],
      "metadata": {
        "id": "ya5Z7Rb21Ymj",
        "outputId": "499662a7-9209-4c09-9934-6f3c94acd392",
        "colab": {
          "base_uri": "https://localhost:8080/"
        }
      },
      "execution_count": 46,
      "outputs": [
        {
          "output_type": "execute_result",
          "data": {
            "text/plain": [
              "27"
            ]
          },
          "metadata": {},
          "execution_count": 46
        }
      ]
    },
    {
      "cell_type": "code",
      "source": [
        "region = np.concatenate((df1[df1['region_1'].isnull()].winery.unique(), df2[df2['region_1'].isnull()].winery.unique()))\n",
        "region = np.concatenate((region, df1[df1['region_2'].isnull()].winery.unique()))\n",
        "region = set(np.concatenate((region, df2[df2['region_2'].isnull()].winery.unique())))\n",
        "len(region)"
      ],
      "metadata": {
        "id": "z7Fzsra5y9vd",
        "outputId": "c9e2a587-07d3-440b-c253-bd49433bb5d0",
        "colab": {
          "base_uri": "https://localhost:8080/"
        }
      },
      "execution_count": 45,
      "outputs": [
        {
          "output_type": "execute_result",
          "data": {
            "text/plain": [
              "14017"
            ]
          },
          "metadata": {},
          "execution_count": 45
        }
      ]
    },
    {
      "cell_type": "code",
      "source": [
        "# reviews.loc[(reviews.country == 'Italy') & (reviews.points >= 90)]\n",
        "df1.loc[(df1.region_1 == df1.region_2) & (df1.region_1.notnull())]"
      ],
      "metadata": {
        "id": "hm-5AALU1Akq",
        "outputId": "1b3374af-0041-4ca8-c4d6-5f3becd22ac1",
        "colab": {
          "base_uri": "https://localhost:8080/",
          "height": 423
        }
      },
      "execution_count": 49,
      "outputs": [
        {
          "output_type": "execute_result",
          "data": {
            "text/plain": [
              "            id country                                        description  \\\n",
              "3            3      US  This spent 20 months in 30% new French oak, an...   \n",
              "15          15      US  First made in 2006, this succulent luscious Ch...   \n",
              "27          27      US  Focused and dense, this intense wine captures ...   \n",
              "57          57      US  While exuberantly fruity, almost tropical on t...   \n",
              "73          73      US  Massively fruity, this is an apple/pear bonanz...   \n",
              "...        ...     ...                                                ...   \n",
              "150687  150687      US  Honeyed mango and papaya flavors are accented ...   \n",
              "150743  150743      US  A peppery nose, tart wine, with plenty of acid...   \n",
              "150745  150745      US  Simple fruit and a sweet, almost candied flavo...   \n",
              "150758  150758      US  The more I taste Vidal, the more I find it an ...   \n",
              "150915  150915      US  Decades ago, Beringer’s then-winemaker Myron N...   \n",
              "\n",
              "         designation  points  price    province           region_1  \\\n",
              "3            Reserve      96   65.0      Oregon  Willamette Valley   \n",
              "15            Sigrid      95   90.0      Oregon  Willamette Valley   \n",
              "27           Abetina      94  105.0      Oregon  Willamette Valley   \n",
              "57           Reserve      90   25.0    New York       Finger Lakes   \n",
              "73               NaN      91   19.0      Oregon  Willamette Valley   \n",
              "...              ...     ...    ...         ...                ...   \n",
              "150687  Late Harvest      86   15.0    New York       Finger Lakes   \n",
              "150743       Zin Man      83   12.0  California   Sierra Foothills   \n",
              "150745   French Camp      82   12.0  California      Central Coast   \n",
              "150758      Ice Wine      81   18.0    New York       Finger Lakes   \n",
              "150915   Nightingale      93   30.0  California        North Coast   \n",
              "\n",
              "                 region_2      variety                winery  \n",
              "3       Willamette Valley   Pinot Noir                 Ponzi  \n",
              "15      Willamette Valley   Chardonnay             Bergström  \n",
              "27      Willamette Valley   Pinot Noir                 Ponzi  \n",
              "57           Finger Lakes     Riesling  Dr. Konstantin Frank  \n",
              "73      Willamette Valley   Pinot Gris     Trinity Vineyards  \n",
              "...                   ...          ...                   ...  \n",
              "150687       Finger Lakes     Vignoles                Wagner  \n",
              "150743   Sierra Foothills    Zinfandel           Perry Creek  \n",
              "150745      Central Coast    Zinfandel         Buffalo Ridge  \n",
              "150758       Finger Lakes  Vidal Blanc                Wagner  \n",
              "150915        North Coast  White Blend              Beringer  \n",
              "\n",
              "[5299 rows x 11 columns]"
            ],
            "text/html": [
              "\n",
              "  <div id=\"df-919acf3c-bc39-4f1e-a4cb-bcca61ad68e2\" class=\"colab-df-container\">\n",
              "    <div>\n",
              "<style scoped>\n",
              "    .dataframe tbody tr th:only-of-type {\n",
              "        vertical-align: middle;\n",
              "    }\n",
              "\n",
              "    .dataframe tbody tr th {\n",
              "        vertical-align: top;\n",
              "    }\n",
              "\n",
              "    .dataframe thead th {\n",
              "        text-align: right;\n",
              "    }\n",
              "</style>\n",
              "<table border=\"1\" class=\"dataframe\">\n",
              "  <thead>\n",
              "    <tr style=\"text-align: right;\">\n",
              "      <th></th>\n",
              "      <th>id</th>\n",
              "      <th>country</th>\n",
              "      <th>description</th>\n",
              "      <th>designation</th>\n",
              "      <th>points</th>\n",
              "      <th>price</th>\n",
              "      <th>province</th>\n",
              "      <th>region_1</th>\n",
              "      <th>region_2</th>\n",
              "      <th>variety</th>\n",
              "      <th>winery</th>\n",
              "    </tr>\n",
              "  </thead>\n",
              "  <tbody>\n",
              "    <tr>\n",
              "      <th>3</th>\n",
              "      <td>3</td>\n",
              "      <td>US</td>\n",
              "      <td>This spent 20 months in 30% new French oak, an...</td>\n",
              "      <td>Reserve</td>\n",
              "      <td>96</td>\n",
              "      <td>65.0</td>\n",
              "      <td>Oregon</td>\n",
              "      <td>Willamette Valley</td>\n",
              "      <td>Willamette Valley</td>\n",
              "      <td>Pinot Noir</td>\n",
              "      <td>Ponzi</td>\n",
              "    </tr>\n",
              "    <tr>\n",
              "      <th>15</th>\n",
              "      <td>15</td>\n",
              "      <td>US</td>\n",
              "      <td>First made in 2006, this succulent luscious Ch...</td>\n",
              "      <td>Sigrid</td>\n",
              "      <td>95</td>\n",
              "      <td>90.0</td>\n",
              "      <td>Oregon</td>\n",
              "      <td>Willamette Valley</td>\n",
              "      <td>Willamette Valley</td>\n",
              "      <td>Chardonnay</td>\n",
              "      <td>Bergström</td>\n",
              "    </tr>\n",
              "    <tr>\n",
              "      <th>27</th>\n",
              "      <td>27</td>\n",
              "      <td>US</td>\n",
              "      <td>Focused and dense, this intense wine captures ...</td>\n",
              "      <td>Abetina</td>\n",
              "      <td>94</td>\n",
              "      <td>105.0</td>\n",
              "      <td>Oregon</td>\n",
              "      <td>Willamette Valley</td>\n",
              "      <td>Willamette Valley</td>\n",
              "      <td>Pinot Noir</td>\n",
              "      <td>Ponzi</td>\n",
              "    </tr>\n",
              "    <tr>\n",
              "      <th>57</th>\n",
              "      <td>57</td>\n",
              "      <td>US</td>\n",
              "      <td>While exuberantly fruity, almost tropical on t...</td>\n",
              "      <td>Reserve</td>\n",
              "      <td>90</td>\n",
              "      <td>25.0</td>\n",
              "      <td>New York</td>\n",
              "      <td>Finger Lakes</td>\n",
              "      <td>Finger Lakes</td>\n",
              "      <td>Riesling</td>\n",
              "      <td>Dr. Konstantin Frank</td>\n",
              "    </tr>\n",
              "    <tr>\n",
              "      <th>73</th>\n",
              "      <td>73</td>\n",
              "      <td>US</td>\n",
              "      <td>Massively fruity, this is an apple/pear bonanz...</td>\n",
              "      <td>NaN</td>\n",
              "      <td>91</td>\n",
              "      <td>19.0</td>\n",
              "      <td>Oregon</td>\n",
              "      <td>Willamette Valley</td>\n",
              "      <td>Willamette Valley</td>\n",
              "      <td>Pinot Gris</td>\n",
              "      <td>Trinity Vineyards</td>\n",
              "    </tr>\n",
              "    <tr>\n",
              "      <th>...</th>\n",
              "      <td>...</td>\n",
              "      <td>...</td>\n",
              "      <td>...</td>\n",
              "      <td>...</td>\n",
              "      <td>...</td>\n",
              "      <td>...</td>\n",
              "      <td>...</td>\n",
              "      <td>...</td>\n",
              "      <td>...</td>\n",
              "      <td>...</td>\n",
              "      <td>...</td>\n",
              "    </tr>\n",
              "    <tr>\n",
              "      <th>150687</th>\n",
              "      <td>150687</td>\n",
              "      <td>US</td>\n",
              "      <td>Honeyed mango and papaya flavors are accented ...</td>\n",
              "      <td>Late Harvest</td>\n",
              "      <td>86</td>\n",
              "      <td>15.0</td>\n",
              "      <td>New York</td>\n",
              "      <td>Finger Lakes</td>\n",
              "      <td>Finger Lakes</td>\n",
              "      <td>Vignoles</td>\n",
              "      <td>Wagner</td>\n",
              "    </tr>\n",
              "    <tr>\n",
              "      <th>150743</th>\n",
              "      <td>150743</td>\n",
              "      <td>US</td>\n",
              "      <td>A peppery nose, tart wine, with plenty of acid...</td>\n",
              "      <td>Zin Man</td>\n",
              "      <td>83</td>\n",
              "      <td>12.0</td>\n",
              "      <td>California</td>\n",
              "      <td>Sierra Foothills</td>\n",
              "      <td>Sierra Foothills</td>\n",
              "      <td>Zinfandel</td>\n",
              "      <td>Perry Creek</td>\n",
              "    </tr>\n",
              "    <tr>\n",
              "      <th>150745</th>\n",
              "      <td>150745</td>\n",
              "      <td>US</td>\n",
              "      <td>Simple fruit and a sweet, almost candied flavo...</td>\n",
              "      <td>French Camp</td>\n",
              "      <td>82</td>\n",
              "      <td>12.0</td>\n",
              "      <td>California</td>\n",
              "      <td>Central Coast</td>\n",
              "      <td>Central Coast</td>\n",
              "      <td>Zinfandel</td>\n",
              "      <td>Buffalo Ridge</td>\n",
              "    </tr>\n",
              "    <tr>\n",
              "      <th>150758</th>\n",
              "      <td>150758</td>\n",
              "      <td>US</td>\n",
              "      <td>The more I taste Vidal, the more I find it an ...</td>\n",
              "      <td>Ice Wine</td>\n",
              "      <td>81</td>\n",
              "      <td>18.0</td>\n",
              "      <td>New York</td>\n",
              "      <td>Finger Lakes</td>\n",
              "      <td>Finger Lakes</td>\n",
              "      <td>Vidal Blanc</td>\n",
              "      <td>Wagner</td>\n",
              "    </tr>\n",
              "    <tr>\n",
              "      <th>150915</th>\n",
              "      <td>150915</td>\n",
              "      <td>US</td>\n",
              "      <td>Decades ago, Beringer’s then-winemaker Myron N...</td>\n",
              "      <td>Nightingale</td>\n",
              "      <td>93</td>\n",
              "      <td>30.0</td>\n",
              "      <td>California</td>\n",
              "      <td>North Coast</td>\n",
              "      <td>North Coast</td>\n",
              "      <td>White Blend</td>\n",
              "      <td>Beringer</td>\n",
              "    </tr>\n",
              "  </tbody>\n",
              "</table>\n",
              "<p>5299 rows × 11 columns</p>\n",
              "</div>\n",
              "    <div class=\"colab-df-buttons\">\n",
              "\n",
              "  <div class=\"colab-df-container\">\n",
              "    <button class=\"colab-df-convert\" onclick=\"convertToInteractive('df-919acf3c-bc39-4f1e-a4cb-bcca61ad68e2')\"\n",
              "            title=\"Convert this dataframe to an interactive table.\"\n",
              "            style=\"display:none;\">\n",
              "\n",
              "  <svg xmlns=\"http://www.w3.org/2000/svg\" height=\"24px\" viewBox=\"0 -960 960 960\">\n",
              "    <path d=\"M120-120v-720h720v720H120Zm60-500h600v-160H180v160Zm220 220h160v-160H400v160Zm0 220h160v-160H400v160ZM180-400h160v-160H180v160Zm440 0h160v-160H620v160ZM180-180h160v-160H180v160Zm440 0h160v-160H620v160Z\"/>\n",
              "  </svg>\n",
              "    </button>\n",
              "\n",
              "  <style>\n",
              "    .colab-df-container {\n",
              "      display:flex;\n",
              "      gap: 12px;\n",
              "    }\n",
              "\n",
              "    .colab-df-convert {\n",
              "      background-color: #E8F0FE;\n",
              "      border: none;\n",
              "      border-radius: 50%;\n",
              "      cursor: pointer;\n",
              "      display: none;\n",
              "      fill: #1967D2;\n",
              "      height: 32px;\n",
              "      padding: 0 0 0 0;\n",
              "      width: 32px;\n",
              "    }\n",
              "\n",
              "    .colab-df-convert:hover {\n",
              "      background-color: #E2EBFA;\n",
              "      box-shadow: 0px 1px 2px rgba(60, 64, 67, 0.3), 0px 1px 3px 1px rgba(60, 64, 67, 0.15);\n",
              "      fill: #174EA6;\n",
              "    }\n",
              "\n",
              "    .colab-df-buttons div {\n",
              "      margin-bottom: 4px;\n",
              "    }\n",
              "\n",
              "    [theme=dark] .colab-df-convert {\n",
              "      background-color: #3B4455;\n",
              "      fill: #D2E3FC;\n",
              "    }\n",
              "\n",
              "    [theme=dark] .colab-df-convert:hover {\n",
              "      background-color: #434B5C;\n",
              "      box-shadow: 0px 1px 3px 1px rgba(0, 0, 0, 0.15);\n",
              "      filter: drop-shadow(0px 1px 2px rgba(0, 0, 0, 0.3));\n",
              "      fill: #FFFFFF;\n",
              "    }\n",
              "  </style>\n",
              "\n",
              "    <script>\n",
              "      const buttonEl =\n",
              "        document.querySelector('#df-919acf3c-bc39-4f1e-a4cb-bcca61ad68e2 button.colab-df-convert');\n",
              "      buttonEl.style.display =\n",
              "        google.colab.kernel.accessAllowed ? 'block' : 'none';\n",
              "\n",
              "      async function convertToInteractive(key) {\n",
              "        const element = document.querySelector('#df-919acf3c-bc39-4f1e-a4cb-bcca61ad68e2');\n",
              "        const dataTable =\n",
              "          await google.colab.kernel.invokeFunction('convertToInteractive',\n",
              "                                                    [key], {});\n",
              "        if (!dataTable) return;\n",
              "\n",
              "        const docLinkHtml = 'Like what you see? Visit the ' +\n",
              "          '<a target=\"_blank\" href=https://colab.research.google.com/notebooks/data_table.ipynb>data table notebook</a>'\n",
              "          + ' to learn more about interactive tables.';\n",
              "        element.innerHTML = '';\n",
              "        dataTable['output_type'] = 'display_data';\n",
              "        await google.colab.output.renderOutput(dataTable, element);\n",
              "        const docLink = document.createElement('div');\n",
              "        docLink.innerHTML = docLinkHtml;\n",
              "        element.appendChild(docLink);\n",
              "      }\n",
              "    </script>\n",
              "  </div>\n",
              "\n",
              "\n",
              "<div id=\"df-1d976aff-047f-4c80-ac5a-4ba4b806e46b\">\n",
              "  <button class=\"colab-df-quickchart\" onclick=\"quickchart('df-1d976aff-047f-4c80-ac5a-4ba4b806e46b')\"\n",
              "            title=\"Suggest charts\"\n",
              "            style=\"display:none;\">\n",
              "\n",
              "<svg xmlns=\"http://www.w3.org/2000/svg\" height=\"24px\"viewBox=\"0 0 24 24\"\n",
              "     width=\"24px\">\n",
              "    <g>\n",
              "        <path d=\"M19 3H5c-1.1 0-2 .9-2 2v14c0 1.1.9 2 2 2h14c1.1 0 2-.9 2-2V5c0-1.1-.9-2-2-2zM9 17H7v-7h2v7zm4 0h-2V7h2v10zm4 0h-2v-4h2v4z\"/>\n",
              "    </g>\n",
              "</svg>\n",
              "  </button>\n",
              "\n",
              "<style>\n",
              "  .colab-df-quickchart {\n",
              "      --bg-color: #E8F0FE;\n",
              "      --fill-color: #1967D2;\n",
              "      --hover-bg-color: #E2EBFA;\n",
              "      --hover-fill-color: #174EA6;\n",
              "      --disabled-fill-color: #AAA;\n",
              "      --disabled-bg-color: #DDD;\n",
              "  }\n",
              "\n",
              "  [theme=dark] .colab-df-quickchart {\n",
              "      --bg-color: #3B4455;\n",
              "      --fill-color: #D2E3FC;\n",
              "      --hover-bg-color: #434B5C;\n",
              "      --hover-fill-color: #FFFFFF;\n",
              "      --disabled-bg-color: #3B4455;\n",
              "      --disabled-fill-color: #666;\n",
              "  }\n",
              "\n",
              "  .colab-df-quickchart {\n",
              "    background-color: var(--bg-color);\n",
              "    border: none;\n",
              "    border-radius: 50%;\n",
              "    cursor: pointer;\n",
              "    display: none;\n",
              "    fill: var(--fill-color);\n",
              "    height: 32px;\n",
              "    padding: 0;\n",
              "    width: 32px;\n",
              "  }\n",
              "\n",
              "  .colab-df-quickchart:hover {\n",
              "    background-color: var(--hover-bg-color);\n",
              "    box-shadow: 0 1px 2px rgba(60, 64, 67, 0.3), 0 1px 3px 1px rgba(60, 64, 67, 0.15);\n",
              "    fill: var(--button-hover-fill-color);\n",
              "  }\n",
              "\n",
              "  .colab-df-quickchart-complete:disabled,\n",
              "  .colab-df-quickchart-complete:disabled:hover {\n",
              "    background-color: var(--disabled-bg-color);\n",
              "    fill: var(--disabled-fill-color);\n",
              "    box-shadow: none;\n",
              "  }\n",
              "\n",
              "  .colab-df-spinner {\n",
              "    border: 2px solid var(--fill-color);\n",
              "    border-color: transparent;\n",
              "    border-bottom-color: var(--fill-color);\n",
              "    animation:\n",
              "      spin 1s steps(1) infinite;\n",
              "  }\n",
              "\n",
              "  @keyframes spin {\n",
              "    0% {\n",
              "      border-color: transparent;\n",
              "      border-bottom-color: var(--fill-color);\n",
              "      border-left-color: var(--fill-color);\n",
              "    }\n",
              "    20% {\n",
              "      border-color: transparent;\n",
              "      border-left-color: var(--fill-color);\n",
              "      border-top-color: var(--fill-color);\n",
              "    }\n",
              "    30% {\n",
              "      border-color: transparent;\n",
              "      border-left-color: var(--fill-color);\n",
              "      border-top-color: var(--fill-color);\n",
              "      border-right-color: var(--fill-color);\n",
              "    }\n",
              "    40% {\n",
              "      border-color: transparent;\n",
              "      border-right-color: var(--fill-color);\n",
              "      border-top-color: var(--fill-color);\n",
              "    }\n",
              "    60% {\n",
              "      border-color: transparent;\n",
              "      border-right-color: var(--fill-color);\n",
              "    }\n",
              "    80% {\n",
              "      border-color: transparent;\n",
              "      border-right-color: var(--fill-color);\n",
              "      border-bottom-color: var(--fill-color);\n",
              "    }\n",
              "    90% {\n",
              "      border-color: transparent;\n",
              "      border-bottom-color: var(--fill-color);\n",
              "    }\n",
              "  }\n",
              "</style>\n",
              "\n",
              "  <script>\n",
              "    async function quickchart(key) {\n",
              "      const quickchartButtonEl =\n",
              "        document.querySelector('#' + key + ' button');\n",
              "      quickchartButtonEl.disabled = true;  // To prevent multiple clicks.\n",
              "      quickchartButtonEl.classList.add('colab-df-spinner');\n",
              "      try {\n",
              "        const charts = await google.colab.kernel.invokeFunction(\n",
              "            'suggestCharts', [key], {});\n",
              "      } catch (error) {\n",
              "        console.error('Error during call to suggestCharts:', error);\n",
              "      }\n",
              "      quickchartButtonEl.classList.remove('colab-df-spinner');\n",
              "      quickchartButtonEl.classList.add('colab-df-quickchart-complete');\n",
              "    }\n",
              "    (() => {\n",
              "      let quickchartButtonEl =\n",
              "        document.querySelector('#df-1d976aff-047f-4c80-ac5a-4ba4b806e46b button');\n",
              "      quickchartButtonEl.style.display =\n",
              "        google.colab.kernel.accessAllowed ? 'block' : 'none';\n",
              "    })();\n",
              "  </script>\n",
              "</div>\n",
              "\n",
              "    </div>\n",
              "  </div>\n"
            ],
            "application/vnd.google.colaboratory.intrinsic+json": {
              "type": "dataframe",
              "summary": "{\n  \"name\": \"df1\",\n  \"rows\": 5299,\n  \"fields\": [\n    {\n      \"column\": \"id\",\n      \"properties\": {\n        \"dtype\": \"number\",\n        \"std\": 43633,\n        \"min\": 3,\n        \"max\": 150915,\n        \"num_unique_values\": 5299,\n        \"samples\": [\n          136470,\n          91547,\n          14113\n        ],\n        \"semantic_type\": \"\",\n        \"description\": \"\"\n      }\n    },\n    {\n      \"column\": \"country\",\n      \"properties\": {\n        \"dtype\": \"category\",\n        \"num_unique_values\": 1,\n        \"samples\": [\n          \"US\"\n        ],\n        \"semantic_type\": \"\",\n        \"description\": \"\"\n      }\n    },\n    {\n      \"column\": \"description\",\n      \"properties\": {\n        \"dtype\": \"string\",\n        \"num_unique_values\": 3360,\n        \"samples\": [\n          \"Aromas of butterscotch, smoked almonds and oak take the lead. On the palate, it's crisper than expected, with lightly toasted hazelnut, emergent apples on the midpalate and a lingering finish.\"\n        ],\n        \"semantic_type\": \"\",\n        \"description\": \"\"\n      }\n    },\n    {\n      \"column\": \"designation\",\n      \"properties\": {\n        \"dtype\": \"category\",\n        \"num_unique_values\": 1021,\n        \"samples\": [\n          \"Schindler Reserve\"\n        ],\n        \"semantic_type\": \"\",\n        \"description\": \"\"\n      }\n    },\n    {\n      \"column\": \"points\",\n      \"properties\": {\n        \"dtype\": \"number\",\n        \"std\": 2,\n        \"min\": 80,\n        \"max\": 97,\n        \"num_unique_values\": 18,\n        \"samples\": [\n          96\n        ],\n        \"semantic_type\": \"\",\n        \"description\": \"\"\n      }\n    },\n    {\n      \"column\": \"price\",\n      \"properties\": {\n        \"dtype\": \"number\",\n        \"std\": 14.70635622709465,\n        \"min\": 5.0,\n        \"max\": 175.0,\n        \"num_unique_values\": 67,\n        \"samples\": [\n          55.0\n        ],\n        \"semantic_type\": \"\",\n        \"description\": \"\"\n      }\n    },\n    {\n      \"column\": \"province\",\n      \"properties\": {\n        \"dtype\": \"category\",\n        \"num_unique_values\": 3,\n        \"samples\": [\n          \"Oregon\"\n        ],\n        \"semantic_type\": \"\",\n        \"description\": \"\"\n      }\n    },\n    {\n      \"column\": \"region_1\",\n      \"properties\": {\n        \"dtype\": \"category\",\n        \"num_unique_values\": 10,\n        \"samples\": [\n          \"Southern Oregon\"\n        ],\n        \"semantic_type\": \"\",\n        \"description\": \"\"\n      }\n    },\n    {\n      \"column\": \"region_2\",\n      \"properties\": {\n        \"dtype\": \"category\",\n        \"num_unique_values\": 10,\n        \"samples\": [\n          \"Southern Oregon\"\n        ],\n        \"semantic_type\": \"\",\n        \"description\": \"\"\n      }\n    },\n    {\n      \"column\": \"variety\",\n      \"properties\": {\n        \"dtype\": \"category\",\n        \"num_unique_values\": 83,\n        \"samples\": [\n          \"Torront\\u00e9s\"\n        ],\n        \"semantic_type\": \"\",\n        \"description\": \"\"\n      }\n    },\n    {\n      \"column\": \"winery\",\n      \"properties\": {\n        \"dtype\": \"category\",\n        \"num_unique_values\": 669,\n        \"samples\": [\n          \"Limited by Cambridge Cellars\"\n        ],\n        \"semantic_type\": \"\",\n        \"description\": \"\"\n      }\n    }\n  ]\n}"
            }
          },
          "metadata": {},
          "execution_count": 49
        }
      ]
    },
    {
      "cell_type": "code",
      "source": [],
      "metadata": {
        "id": "XrjLoyUh8MyR"
      },
      "execution_count": null,
      "outputs": []
    }
  ]
}